{
  "nbformat": 4,
  "nbformat_minor": 0,
  "metadata": {
    "colab": {
      "name": "linear_algebra_applied.ipynb",
      "provenance": [],
      "collapsed_sections": [
        "TXA-m1MHGE0w"
      ],
      "authorship_tag": "ABX9TyNoAY1AtDA6urWXyPlO9L5p",
      "include_colab_link": true
    },
    "kernelspec": {
      "name": "python3",
      "display_name": "Python 3"
    },
    "language_info": {
      "name": "python"
    }
  },
  "cells": [
    {
      "cell_type": "markdown",
      "metadata": {
        "id": "view-in-github",
        "colab_type": "text"
      },
      "source": [
        "<a href=\"https://colab.research.google.com/github/thihanaung-thnn/mathematics/blob/main/linear_algebra_applied.ipynb\" target=\"_parent\"><img src=\"https://colab.research.google.com/assets/colab-badge.svg\" alt=\"Open In Colab\"/></a>"
      ]
    },
    {
      "cell_type": "code",
      "metadata": {
        "id": "m8iHt7nCtvy8"
      },
      "source": [
        "import numpy as np"
      ],
      "execution_count": 2,
      "outputs": []
    },
    {
      "cell_type": "markdown",
      "metadata": {
        "id": "TXA-m1MHGE0w"
      },
      "source": [
        "## **Factorization** \n"
      ]
    },
    {
      "cell_type": "markdown",
      "metadata": {
        "id": "vYxIh6M4zZk9"
      },
      "source": [
        "\n",
        "### **Matrix Decompositions**\n",
        "\n",
        "> methods that reduce a matrix into constituent parts that make it easier to calculate more complex matrix operations  \n",
        "\n",
        "- common analogy is factoring of numbers such as factoring of 10 in 2x5 and **also known as Matrix Factorization**  \n",
        "- two simple and widely used methods are **LU** and **QR** matrix decomposition. \n",
        "\n",
        "**LU Decomposition** - for square matrices and decomposes a matrix into L and U components.  \n",
        "> $A = L.U$ or $ A = LU $\n",
        "\n",
        "A is square matrix that want to decompose and L is lower triangle matrix and U is upper triangle matrix.  \n",
        "\n",
        "LU decomposition is found using an iterative numerical process and can fail for those matrices that cannot be decomposed or decomposed easily.\n",
        "A variation of this decomposition that is numerically more stable to solve in practice is called **LUP** decomposition.   \n",
        "> $A = L.U.P$  \n",
        "\n",
        "The rows of the parent matrix are reordered to simplify the decomposition process and the additional P matrix specifies a way to permute the result or return the result to the original order.  \n",
        "> `lu()` function in python from `scipy.linalg`"
      ]
    },
    {
      "cell_type": "code",
      "metadata": {
        "colab": {
          "base_uri": "https://localhost:8080/"
        },
        "id": "MN71B-UFELBX",
        "outputId": "087f2cdd-a544-41f4-bb6a-1d3377338a00"
      },
      "source": [
        "from scipy.linalg import lu  \n",
        "A = np.array([\n",
        "              [1,2,3],\n",
        "              [4,5,6],\n",
        "              [7,8,9]\n",
        "])\n",
        "P, L, U = lu(A)\n",
        "print(f\"Matrix A \\n{A}\")\n",
        "print(f\"P = \\n{P} \\nL = \\n{L} \\nU = \\n{U}\")\n",
        "\n",
        "# reconstruct \n",
        "B = P @ L @ U\n",
        "print(f\"After reconstruct, matrix B \\n{B}\")"
      ],
      "execution_count": 62,
      "outputs": [
        {
          "output_type": "stream",
          "name": "stdout",
          "text": [
            "Matrix A \n",
            "[[1 2 3]\n",
            " [4 5 6]\n",
            " [7 8 9]]\n",
            "P = \n",
            "[[0. 1. 0.]\n",
            " [0. 0. 1.]\n",
            " [1. 0. 0.]] \n",
            "L = \n",
            "[[1.         0.         0.        ]\n",
            " [0.14285714 1.         0.        ]\n",
            " [0.57142857 0.5        1.        ]] \n",
            "U = \n",
            "[[7.         8.         9.        ]\n",
            " [0.         0.85714286 1.71428571]\n",
            " [0.         0.         0.        ]]\n",
            "After reconstruct, matrix B \n",
            "[[1. 2. 3.]\n",
            " [4. 5. 6.]\n",
            " [7. 8. 9.]]\n"
          ]
        }
      ]
    },
    {
      "cell_type": "markdown",
      "metadata": {
        "id": "p-i6WYLkLApu"
      },
      "source": [
        "**QR Decomposition** - for `n x m` matrices (not limited to square matrices) and decomposes a matrix into Q and R components.  \n",
        "$A = Q.R$  \n",
        "A is matrix want to decompose, Q is matrix with size `m x m` and R is upper triangle matrix with size `m x n`.  \n",
        "QR decomposition is found using an iterative numerical method that can fail for those matrices that cannot be decompsed or decompsed easily.  \n",
        "> `qr()` function in `numpy.linalg`   \n"
      ]
    },
    {
      "cell_type": "code",
      "metadata": {
        "colab": {
          "base_uri": "https://localhost:8080/"
        },
        "id": "qUE5CZr-E0d2",
        "outputId": "5dcaca0a-a29b-47f5-d417-42908fbe4c09"
      },
      "source": [
        "A = np.array([[1,2],[3,4],[5,6]])\n",
        "Q, R = np.linalg.qr(A, 'complete') \n",
        "# complete create n x n (3x3) matrix for Q, default will create 3 x 2 matrix\n",
        "\n",
        "print(f\"Matrix A \\n{A}\")\n",
        "print(f\"Q = \\n{Q} \\nR = \\n{R}\")\n",
        "\n",
        "# reconstruct \n",
        "B = Q @ R \n",
        "print(f\"After reconstructing \\n{B}\")"
      ],
      "execution_count": 63,
      "outputs": [
        {
          "output_type": "stream",
          "name": "stdout",
          "text": [
            "Matrix A \n",
            "[[1 2]\n",
            " [3 4]\n",
            " [5 6]]\n",
            "Q = \n",
            "[[-0.16903085  0.89708523  0.40824829]\n",
            " [-0.50709255  0.27602622 -0.81649658]\n",
            " [-0.84515425 -0.34503278  0.40824829]] \n",
            "R = \n",
            "[[-5.91607978 -7.43735744]\n",
            " [ 0.          0.82807867]\n",
            " [ 0.          0.        ]]\n",
            "After reconstructing \n",
            "[[1. 2.]\n",
            " [3. 4.]\n",
            " [5. 6.]]\n"
          ]
        }
      ]
    },
    {
      "cell_type": "markdown",
      "metadata": {
        "id": "vxJQ92lpNQqp"
      },
      "source": [
        "**Cholesky Decomposition** - for square symmetric matrices where all values are greater than zero, so-called positive definite matrices.  \n",
        "> $A = L.L^T$  \n",
        "\n",
        "A is matrix being decomposed, L is lower triangular matrix and $L^T$ is transpose of T.  \n",
        "> $A = U^T.U$  \n",
        "\n",
        "U is upper triangular matrix.  \n",
        "Cholesky decomposition is used for solving linear least squares for linear regression as well as simulation and optimization methods.When decomposing symmetric matrices, Cholesky is nearly twice as efficient as LU decomposition.  \n",
        "> `cholesky()` in `numpy.linalg`"
      ]
    },
    {
      "cell_type": "code",
      "metadata": {
        "colab": {
          "base_uri": "https://localhost:8080/"
        },
        "id": "TQrTuX8fMn7i",
        "outputId": "9b4c7c74-af3a-4846-c0e7-c7fa74bf7547"
      },
      "source": [
        "A = np.array([\n",
        "              [2,1,1],\n",
        "              [1,2,1],\n",
        "              [1,1,2]])\n",
        "L = np.linalg.cholesky(A)\n",
        "print(f\"Matrix A \\n{A}\")\n",
        "print(f\"Cholesky Matrix L\\n{L}\")\n",
        "print(f\"Reconstruct by L@transposeL \\n{L@L.T}\")"
      ],
      "execution_count": 64,
      "outputs": [
        {
          "output_type": "stream",
          "name": "stdout",
          "text": [
            "Matrix A \n",
            "[[2 1 1]\n",
            " [1 2 1]\n",
            " [1 1 2]]\n",
            "Cholesky Matrix L\n",
            "[[1.41421356 0.         0.        ]\n",
            " [0.70710678 1.22474487 0.        ]\n",
            " [0.70710678 0.40824829 1.15470054]]\n",
            "Reconstruct by L@transposeL \n",
            "[[2. 1. 1.]\n",
            " [1. 2. 1.]\n",
            " [1. 1. 2.]]\n"
          ]
        }
      ]
    },
    {
      "cell_type": "markdown",
      "metadata": {
        "id": "4MKJIzsWPFf7"
      },
      "source": [
        "### **Eigendecomposition**  \n",
        "Most used type of matrix decomposition is the eigendecompsition that decomposes a matrix into **eigenvectors** and **eigenvalues**. This method is also used in **PCA**.  \n",
        "\n",
        "**Eigendecomposition of a Matrix** - type of decompsition that involves decomposing a square matrix into a set of eigenvectors and eigenvalues.  \n",
        "\n",
        "A vector is an eigenvector of a matrix if it satisfies the following equation.  \n",
        "> $A.\\upsilon = \\lambda .\\upsilon$  \n",
        "\n",
        "This is eigen equation, A is parent square matrix that want to decompose, $\\upsilon$ is eigenvector of the matrix, and $\\lambda$ is eigenvalue scalar.  \n",
        "\n",
        "Not all square matrices can be decomposed into eigenvectors and eigenvalues. The parent matrix can be shown to be a product of the eigenvectors and eigenvalues.  \n",
        "\n",
        "> $A = Q.\\Lambda.Q^T$   \n",
        "\n",
        "$Q$ is a matrix comprised of the eigenvectors.  \n",
        "$\\Lambda$ is the diagonal matrix comporised of the eigenvalues.   \n",
        "$Q^T$ is the transpose of matrix comprised of the eigenvectors.   \n",
        "\n",
        "**Eigen** means **own** or **innate** in German word.   \n",
        "Almost all vectors change direction, when they are multiplied by A. Certain exceptional vectors x are in the same direction as Ax. Those are the **eigenvectors**.  \n",
        "**Eigenvectors** are unit vectors (magnitude or length is 1). **Eigenvalues** are coefficients applied to eigenvectors that give the vectors their length or magnitude. Certain matrix calculations become much easier when used the eigendecomposition of the matrix.  \n",
        "\n",
        "> `numpy.linalg.eig()`"
      ]
    },
    {
      "cell_type": "code",
      "metadata": {
        "colab": {
          "base_uri": "https://localhost:8080/"
        },
        "id": "dogdPIOhM2p_",
        "outputId": "06e2abbd-4826-4971-b5ce-efd3dde79e62"
      },
      "source": [
        "A = np.array([\n",
        "              [1,2,3],\n",
        "              [4,5,6],\n",
        "              [7,8,9]])\n",
        "eval, evec = np.linalg.eig(A)\n",
        "\n",
        "print(f\"Matrix A \\n{A}\")\n",
        "print(f\"Eigenvalue of A = {eval}\")\n",
        "print(f\"Eigenvector of A \\n{evec}\")"
      ],
      "execution_count": 65,
      "outputs": [
        {
          "output_type": "stream",
          "name": "stdout",
          "text": [
            "Matrix A \n",
            "[[1 2 3]\n",
            " [4 5 6]\n",
            " [7 8 9]]\n",
            "Eigenvalue of A = [ 1.61168440e+01 -1.11684397e+00 -9.75918483e-16]\n",
            "Eigenvector of A \n",
            "[[-0.23197069 -0.78583024  0.40824829]\n",
            " [-0.52532209 -0.08675134 -0.81649658]\n",
            " [-0.8186735   0.61232756  0.40824829]]\n"
          ]
        }
      ]
    },
    {
      "cell_type": "markdown",
      "metadata": {
        "id": "F6S0zpJdUOa5"
      },
      "source": [
        "**Confirm eigenvector** - by multipying of eigenvector by the value vector and comparing the result with the eigenvalue.  "
      ]
    },
    {
      "cell_type": "code",
      "metadata": {
        "colab": {
          "base_uri": "https://localhost:8080/"
        },
        "id": "2r5xKlY6T0AG",
        "outputId": "530608a6-93e8-4351-f942-85583a0e1bc9"
      },
      "source": [
        "print(A @ evec[:,0])\n",
        "print(evec[:,0]*eval[0])"
      ],
      "execution_count": 66,
      "outputs": [
        {
          "output_type": "stream",
          "name": "stdout",
          "text": [
            "[ -3.73863537  -8.46653421 -13.19443305]\n",
            "[ -3.73863537  -8.46653421 -13.19443305]\n"
          ]
        }
      ]
    },
    {
      "cell_type": "code",
      "metadata": {
        "colab": {
          "base_uri": "https://localhost:8080/"
        },
        "id": "hhMGGPfsUtZ_",
        "outputId": "32c6485e-f551-46e2-af92-cc35ed343cdf"
      },
      "source": [
        "print(A @ evec[:,1])\n",
        "print(evec[:,1]*eval[1])"
      ],
      "execution_count": 67,
      "outputs": [
        {
          "output_type": "stream",
          "name": "stdout",
          "text": [
            "[ 0.87764976  0.09688771 -0.68387434]\n",
            "[ 0.87764976  0.09688771 -0.68387434]\n"
          ]
        }
      ]
    },
    {
      "cell_type": "markdown",
      "metadata": {
        "id": "1AuhdszZal2X"
      },
      "source": [
        "**Reconstruct Matrix** \n",
        "\n",
        "> $A = Q.\\Lambda.Q^T$  \n",
        "\n",
        "$Q$ is eigenvector and $\\Lambda$ is diagonal matrix of eigenvalue. "
      ]
    },
    {
      "cell_type": "code",
      "metadata": {
        "colab": {
          "base_uri": "https://localhost:8080/"
        },
        "id": "U8mrd3PIVLds",
        "outputId": "a3ad5c65-c9ed-4ace-948c-7fe4aaf333ca"
      },
      "source": [
        "Q = evec \n",
        "Lam = np.diag(eval)\n",
        "Q_t = np.linalg.inv(Q)\n",
        "Q.dot(Lam).dot(Q_t)\n",
        "print(f\"After reconstructing: \\n{Q @ Lam @ Q_t}\")"
      ],
      "execution_count": 68,
      "outputs": [
        {
          "output_type": "stream",
          "name": "stdout",
          "text": [
            "After reconstructing: \n",
            "[[1. 2. 3.]\n",
            " [4. 5. 6.]\n",
            " [7. 8. 9.]]\n"
          ]
        }
      ]
    },
    {
      "cell_type": "markdown",
      "metadata": {
        "id": "cxChJbZmeHeM"
      },
      "source": [
        "### **Singular Value Decomposition (SVD)**\n",
        "\n",
        "All matrices have an SVD, and often used in compressing, denoising, data reduction, etc.   \n",
        "SVD is matrix decomposition method for reducing a matrix to its constituent parts in order to make certain subsequent matrix calculation simpler.  \n",
        "\n",
        "> $A = U . \\Sigma . V^T$  \n",
        "\n",
        "Diagonal values in $\\Sigma$ are known as the singular values of the original matrix A. The columns of the $U$ matrix are called the left singular vectors and columns of $V$ matrix are the right sigular matrix of $A$. SVD is calculated via iterative numerical methods. \n",
        "\n",
        "> `scipy.linalg.svd()` \n",
        "\n",
        "This function takes a matrix and returns U, Sigma, and Tranposed V elements. Sigma diagonal matrix is returned as a vector of singular values. V matrix returned in a transposed form. "
      ]
    },
    {
      "cell_type": "code",
      "metadata": {
        "colab": {
          "base_uri": "https://localhost:8080/"
        },
        "id": "eKv2brzdVkYr",
        "outputId": "b3579512-152f-4e54-a77a-d72c23ff7994"
      },
      "source": [
        "from scipy.linalg import svd\n",
        "A = np.array([[1,2],[3,4],[5,6]])\n",
        "U, s, V_t = svd(A)\n",
        "print(f\"Matrix A \\n{A}\\n\")\n",
        "print(f\"U \\n{U}\\n\")\n",
        "print(f\"s \\n{s}\\n\")\n",
        "print(f\"V_t \\n{V_t}\")"
      ],
      "execution_count": 69,
      "outputs": [
        {
          "output_type": "stream",
          "name": "stdout",
          "text": [
            "Matrix A \n",
            "[[1 2]\n",
            " [3 4]\n",
            " [5 6]]\n",
            "\n",
            "U \n",
            "[[-0.2298477   0.88346102  0.40824829]\n",
            " [-0.52474482  0.24078249 -0.81649658]\n",
            " [-0.81964194 -0.40189603  0.40824829]]\n",
            "\n",
            "s \n",
            "[9.52551809 0.51430058]\n",
            "\n",
            "V_t \n",
            "[[-0.61962948 -0.78489445]\n",
            " [-0.78489445  0.61962948]]\n"
          ]
        }
      ]
    },
    {
      "cell_type": "markdown",
      "metadata": {
        "id": "A8sQi7cilrnx"
      },
      "source": [
        "**Reconstruct Matrix** \n",
        "> $A = U . \\Sigma . V^T$    \n",
        "(3x2) = (3x3).(1x2).(2x2)\n",
        "\n",
        "So, we have to construct Sigma to 3 x 2 matrix to multiply. \n"
      ]
    },
    {
      "cell_type": "code",
      "metadata": {
        "colab": {
          "base_uri": "https://localhost:8080/"
        },
        "id": "uYN4XEhvbNqM",
        "outputId": "33036cb5-38a9-4883-9087-4bac59901073"
      },
      "source": [
        "Sigma = np.zeros((A.shape[0], A.shape[1]))\n",
        "Sigma"
      ],
      "execution_count": 70,
      "outputs": [
        {
          "output_type": "execute_result",
          "data": {
            "text/plain": [
              "array([[0., 0.],\n",
              "       [0., 0.],\n",
              "       [0., 0.]])"
            ]
          },
          "metadata": {},
          "execution_count": 70
        }
      ]
    },
    {
      "cell_type": "code",
      "metadata": {
        "colab": {
          "base_uri": "https://localhost:8080/"
        },
        "id": "H6KpRX_Zbu0G",
        "outputId": "b7137b91-5d3e-45ae-8e85-ca00372c13a0"
      },
      "source": [
        "Sigma[:A.shape[1], :A.shape[1]] = np.diag(s)\n",
        "Sigma"
      ],
      "execution_count": 71,
      "outputs": [
        {
          "output_type": "execute_result",
          "data": {
            "text/plain": [
              "array([[9.52551809, 0.        ],\n",
              "       [0.        , 0.51430058],\n",
              "       [0.        , 0.        ]])"
            ]
          },
          "metadata": {},
          "execution_count": 71
        }
      ]
    },
    {
      "cell_type": "code",
      "metadata": {
        "colab": {
          "base_uri": "https://localhost:8080/"
        },
        "id": "x6qTKJU_m1fT",
        "outputId": "f2fa72c2-b858-42fa-f1d6-0d05d5ea83d1"
      },
      "source": [
        "U @ Sigma @ V_t"
      ],
      "execution_count": 72,
      "outputs": [
        {
          "output_type": "execute_result",
          "data": {
            "text/plain": [
              "array([[1., 2.],\n",
              "       [3., 4.],\n",
              "       [5., 6.]])"
            ]
          },
          "metadata": {},
          "execution_count": 72
        }
      ]
    },
    {
      "cell_type": "markdown",
      "metadata": {
        "id": "Zf1fHT9rnOVb"
      },
      "source": [
        "**For square matrices**"
      ]
    },
    {
      "cell_type": "code",
      "metadata": {
        "colab": {
          "base_uri": "https://localhost:8080/"
        },
        "id": "e_LgHqELnA1X",
        "outputId": "2dfd7953-1873-48f2-ed0c-a9e69eb932e6"
      },
      "source": [
        "A = np.array([[1,2,3],[4,5,6],[7,8,9]])\n",
        "U, s, V_t = svd(A)\n",
        "\n",
        "print(f\"Matrix A \\n{A}\\n\")\n",
        "print(f\"U \\n{U}\\n\")\n",
        "print(f\"s \\n{s}\\n\")\n",
        "print(f\"V_t \\n{V_t}\")"
      ],
      "execution_count": 73,
      "outputs": [
        {
          "output_type": "stream",
          "name": "stdout",
          "text": [
            "Matrix A \n",
            "[[1 2 3]\n",
            " [4 5 6]\n",
            " [7 8 9]]\n",
            "\n",
            "U \n",
            "[[-0.21483724  0.88723069  0.40824829]\n",
            " [-0.52058739  0.24964395 -0.81649658]\n",
            " [-0.82633754 -0.38794278  0.40824829]]\n",
            "\n",
            "s \n",
            "[1.68481034e+01 1.06836951e+00 4.41842475e-16]\n",
            "\n",
            "V_t \n",
            "[[-0.47967118 -0.57236779 -0.66506441]\n",
            " [-0.77669099 -0.07568647  0.62531805]\n",
            " [-0.40824829  0.81649658 -0.40824829]]\n"
          ]
        }
      ]
    },
    {
      "cell_type": "code",
      "metadata": {
        "colab": {
          "base_uri": "https://localhost:8080/"
        },
        "id": "9ZuJE-YNncp-",
        "outputId": "1a3035b4-85ec-425d-a9b7-4c9b0feb0ac1"
      },
      "source": [
        "# we can directly make diagnoal matrix of sigma to reconstruct \n",
        "U @ np.diag(s) @ V_t"
      ],
      "execution_count": 74,
      "outputs": [
        {
          "output_type": "execute_result",
          "data": {
            "text/plain": [
              "array([[1., 2., 3.],\n",
              "       [4., 5., 6.],\n",
              "       [7., 8., 9.]])"
            ]
          },
          "metadata": {},
          "execution_count": 74
        }
      ]
    },
    {
      "cell_type": "markdown",
      "metadata": {
        "id": "NpJ05sqBn_HK"
      },
      "source": [
        "### **Pseudoinverse**\n",
        "\n",
        "Pseudoinverse is the generalization of the matrix inverse for square matrices to rectangular matrices where the number of rows and columns are not equal. It is called **Moore-Penrose Inverse**.  \n",
        "Pseudoinverse is denoted as $A^+$ where $A$ is the matrix that is being inverted. Pseudoinverse is calculated using the singular value decomposition of A.  \n",
        "> $A^+ = V^T . D^+ . U^T$  \n",
        "\n",
        "Singular Value Decomposition  \n",
        "\n",
        "> $A = U . \\Sigma . V^T$    \n",
        "\n",
        "$D^+$ can be calculated by creating a diagonal matrix from $\\Sigma$, calculating the reciprocal of each non-zero element in $\\Sigma$, and taking the transpose if the original matrix was rectangular.  \n",
        "\n",
        "$\\Sigma = \\begin{pmatrix}\n",
        "s_{1,1}&0&0 \\\\ 0&s_{2,2,}&0 \\\\ 0&0&s_{3,3}\n",
        "\\end{pmatrix}$\n",
        "\n",
        "$D^+ = \\begin{pmatrix}\n",
        "\\frac{1}{s_{1,1}}&0&0 \\\\ 0&\\frac{1}{s_{2,2}}&0 \\\\ 0&0&\\frac{1}{s_{3,3}}\n",
        "\\end{pmatrix}$  \n",
        "\n",
        "Pseudoinverse provides one way of solving the linear regression equation, specifically when there are more rows than columns. Calculate directly from \n",
        "> `numpy.linalg.pinv()`"
      ]
    },
    {
      "cell_type": "code",
      "metadata": {
        "colab": {
          "base_uri": "https://localhost:8080/"
        },
        "id": "0PjrnLP8nrAW",
        "outputId": "52496929-15e2-488b-a1f0-e1d8ed6829ea"
      },
      "source": [
        "A = np.array([[0.1,0.2],[0.3,0.4],[0.5,0.6],[0.7,0.8]])\n",
        "B = np.linalg.pinv(A)\n",
        "\n",
        "print(f\"Matrix A \\n{A}\\n\")\n",
        "print(f\"Pseudoinverse of A \\n{B}\")"
      ],
      "execution_count": 75,
      "outputs": [
        {
          "output_type": "stream",
          "name": "stdout",
          "text": [
            "Matrix A \n",
            "[[0.1 0.2]\n",
            " [0.3 0.4]\n",
            " [0.5 0.6]\n",
            " [0.7 0.8]]\n",
            "\n",
            "Pseudoinverse of A \n",
            "[[-1.0000000e+01 -5.0000000e+00  8.4040814e-15  5.0000000e+00]\n",
            " [ 8.5000000e+00  4.5000000e+00  5.0000000e-01 -3.5000000e+00]]\n"
          ]
        }
      ]
    },
    {
      "cell_type": "markdown",
      "metadata": {
        "id": "qxK8TwfZrmfo"
      },
      "source": [
        "Calculate manually via SVD. \n"
      ]
    },
    {
      "cell_type": "code",
      "metadata": {
        "colab": {
          "base_uri": "https://localhost:8080/"
        },
        "id": "L_OWBGJqrPAo",
        "outputId": "2a8cc819-1f65-4ef7-b729-bdbc599ce4ab"
      },
      "source": [
        "U, s, V_t = svd(A)\n",
        "d = 1.0 / s\n",
        "D = np.zeros(A.shape)\n",
        "D[:A.shape[1], :A.shape[1]] = np.diag(d)\n",
        "C = V_t.T @ D.T @ U.T\n",
        "\n",
        "print(f\"Matrix A \\n{A}\\n\")\n",
        "print(f\"Calculate manually pseudoinverse of A \\n{C}\\n\")\n",
        "print(f\"Calculate from pinv() \\n{B}\")\n"
      ],
      "execution_count": 76,
      "outputs": [
        {
          "output_type": "stream",
          "name": "stdout",
          "text": [
            "Matrix A \n",
            "[[0.1 0.2]\n",
            " [0.3 0.4]\n",
            " [0.5 0.6]\n",
            " [0.7 0.8]]\n",
            "\n",
            "Calculate manually pseudoinverse of A \n",
            "[[-1.00000000e+01 -5.00000000e+00  1.42578328e-14  5.00000000e+00]\n",
            " [ 8.50000000e+00  4.50000000e+00  5.00000000e-01 -3.50000000e+00]]\n",
            "\n",
            "Calculate from pinv() \n",
            "[[-1.0000000e+01 -5.0000000e+00  8.4040814e-15  5.0000000e+00]\n",
            " [ 8.5000000e+00  4.5000000e+00  5.0000000e-01 -3.5000000e+00]]\n"
          ]
        }
      ]
    },
    {
      "cell_type": "markdown",
      "metadata": {
        "id": "byywTJnHthJI"
      },
      "source": [
        "### **Dimensionality Reduction**\n",
        "\n",
        "Popular application of SVD is dimensionality reduction. Data with a large number of features, such as more features (columns) than observations (rows) may be reduced to a smaller subset of features that are most relevant to the prediction problem.  The result is a matrix with a **lower rank** that is said to approximate the original matrix.  \n",
        "\n",
        "To do this, select top `k` largest singular values in $\\Sigma$. Columns can be selected from $\\Sigma$ and rows selected from $V^T$. An approximate $B$ of the original vector $A$ can be reconstructed.  \n",
        "\n",
        "> $B = U . \\Sigma_k . V_k^T$  \n",
        "\n",
        "In NPL, this approach can be used on matrices of word occurances or word frequencies in documents and is called **Latent Sematic Analysis or Latent Sematic Indexing**.  In practice, we can retain and work with a descriptive supset of the data called $T$, dense summary of the matrix or a projection.  \n",
        "> $T = U . \\Sigma_k$  \n",
        "\n",
        "> $T = A . V_k^T $"
      ]
    },
    {
      "cell_type": "code",
      "metadata": {
        "colab": {
          "base_uri": "https://localhost:8080/"
        },
        "id": "dClbCeh-rQ0u",
        "outputId": "be743fd1-b06e-4730-ebea-976f06a882c8"
      },
      "source": [
        "A = np.array([\n",
        "              [1,2,3,4,5,6,7,8,9,10],\n",
        "              [11,12,13,14,15,16,17,18,19,20],\n",
        "              [21,22,23,24,25,26,27,28,29,30]])\n",
        "print(A)"
      ],
      "execution_count": 77,
      "outputs": [
        {
          "output_type": "stream",
          "name": "stdout",
          "text": [
            "[[ 1  2  3  4  5  6  7  8  9 10]\n",
            " [11 12 13 14 15 16 17 18 19 20]\n",
            " [21 22 23 24 25 26 27 28 29 30]]\n"
          ]
        }
      ]
    },
    {
      "cell_type": "code",
      "metadata": {
        "colab": {
          "base_uri": "https://localhost:8080/"
        },
        "id": "Q12vT1b6scni",
        "outputId": "a3ddb686-4ff3-4da1-b43a-51d8468e0697"
      },
      "source": [
        "U, s, V = svd(A)\n",
        "Sigma = np.zeros((A.shape[0],A.shape[1]))\n",
        "Sigma[:A.shape[0], :A.shape[0]] = np.diag(s)\n",
        "n_elements = 2\n",
        "Sigma = Sigma[:, :n_elements]\n",
        "V = V[:n_elements, :]\n",
        "print(f\"Sigma \\n{Sigma}\")\n",
        "print(f\"V \\n{V}\")"
      ],
      "execution_count": 78,
      "outputs": [
        {
          "output_type": "stream",
          "name": "stdout",
          "text": [
            "Sigma \n",
            "[[96.96573419  0.        ]\n",
            " [ 0.          7.25578339]\n",
            " [ 0.          0.        ]]\n",
            "V \n",
            "[[-0.24139304 -0.25728686 -0.27318068 -0.2890745  -0.30496832 -0.32086214\n",
            "  -0.33675595 -0.35264977 -0.36854359 -0.38443741]\n",
            " [-0.53589546 -0.42695236 -0.31800926 -0.20906617 -0.10012307  0.00882003\n",
            "   0.11776313  0.22670623  0.33564933  0.44459242]]\n"
          ]
        }
      ]
    },
    {
      "cell_type": "code",
      "metadata": {
        "colab": {
          "base_uri": "https://localhost:8080/"
        },
        "id": "agszbIHYsdkL",
        "outputId": "d16af96c-cb29-4407-8da4-1f2301979421"
      },
      "source": [
        "# reconstruct\n",
        "B = U @ Sigma @ V\n",
        "print(B)\n",
        "print('-'*30)\n",
        "# transform  \n",
        "T = U @ Sigma\n",
        "print(T)\n",
        "print('-'*30)\n",
        "T = A @ V.T\n",
        "print(T)\n"
      ],
      "execution_count": 79,
      "outputs": [
        {
          "output_type": "stream",
          "name": "stdout",
          "text": [
            "[[ 1.  2.  3.  4.  5.  6.  7.  8.  9. 10.]\n",
            " [11. 12. 13. 14. 15. 16. 17. 18. 19. 20.]\n",
            " [21. 22. 23. 24. 25. 26. 27. 28. 29. 30.]]\n",
            "------------------------------\n",
            "[[-18.52157747   6.47697214]\n",
            " [-49.81310011   1.91182038]\n",
            " [-81.10462276  -2.65333138]]\n",
            "------------------------------\n",
            "[[-18.52157747   6.47697214]\n",
            " [-49.81310011   1.91182038]\n",
            " [-81.10462276  -2.65333138]]\n"
          ]
        }
      ]
    },
    {
      "cell_type": "markdown",
      "metadata": {
        "id": "ixdhfBSGx2A6"
      },
      "source": [
        "Calculated directly\n",
        "> `sklearn.decomposition.TruncatedSVD`"
      ]
    },
    {
      "cell_type": "code",
      "metadata": {
        "colab": {
          "base_uri": "https://localhost:8080/"
        },
        "id": "YuwriUFEsp9g",
        "outputId": "349d631b-3f4a-4941-9535-a94c7787e2e9"
      },
      "source": [
        "from sklearn.decomposition import TruncatedSVD \n",
        "svd = TruncatedSVD(n_components=2)\n",
        "svd.fit(A)\n",
        "print(svd.transform(A))"
      ],
      "execution_count": 80,
      "outputs": [
        {
          "output_type": "stream",
          "name": "stdout",
          "text": [
            "[[18.52157747  6.47697214]\n",
            " [49.81310011  1.91182038]\n",
            " [81.10462276 -2.65333138]]\n"
          ]
        }
      ]
    },
    {
      "cell_type": "markdown",
      "metadata": {
        "id": "w1CzsMJSywal"
      },
      "source": [
        "## **Linear Algebra in Statistics**"
      ]
    },
    {
      "cell_type": "markdown",
      "metadata": {
        "id": "mZKW9mwBzlA8"
      },
      "source": [
        "### **Introduction to Multivariate Statistics**\n",
        "\n",
        "**Expected Value and Mean** \n",
        "In probability, the average value of some random variable X is called the expected value or he expectation.  \n",
        "\n",
        "> $E[X] = \\sum x_1*p_1, x_2*p_2,\\cdots,x_n*p_n$  \n",
        "\n",
        "In simple case, where probabilities are equal for example, rolling a dice, flipping a coin, \n",
        "\n",
        "> $E[X] = \\frac{1}{n} \\sum x_1, x_2, \\cdots, x_n$  \n",
        "\n",
        "> $\\bar{x} = \\frac{1}{n} \\sum_{i=1}^{n} x_i$  \n"
      ]
    },
    {
      "cell_type": "code",
      "metadata": {
        "colab": {
          "base_uri": "https://localhost:8080/"
        },
        "id": "SLGjRUsiyB3y",
        "outputId": "7dd63525-2960-46e5-81ac-7acc64e70678"
      },
      "source": [
        "a = np.array([1,2,3,4,5,6])\n",
        "np.mean(a)"
      ],
      "execution_count": 81,
      "outputs": [
        {
          "output_type": "execute_result",
          "data": {
            "text/plain": [
              "3.5"
            ]
          },
          "metadata": {},
          "execution_count": 81
        }
      ]
    },
    {
      "cell_type": "code",
      "metadata": {
        "colab": {
          "base_uri": "https://localhost:8080/"
        },
        "id": "ahzSzMiV1v7s",
        "outputId": "5e666b5e-5c48-494b-f488-b8e87d624e67"
      },
      "source": [
        "M = np.array([[1,2,3,4,5],[1,2,3,4,5]])\n",
        "print(M)\n",
        "print(f\"Column means = {np.mean(M, axis=0)}\")\n",
        "print(f\"Row means = {np.mean(M, axis=1)}\")"
      ],
      "execution_count": 82,
      "outputs": [
        {
          "output_type": "stream",
          "name": "stdout",
          "text": [
            "[[1 2 3 4 5]\n",
            " [1 2 3 4 5]]\n",
            "Column means = [1. 2. 3. 4. 5.]\n",
            "Row means = [3. 3.]\n"
          ]
        }
      ]
    },
    {
      "cell_type": "markdown",
      "metadata": {
        "id": "RF48ulGYFHYM"
      },
      "source": [
        "**Variance and Standard Deviation**  \n",
        "Variance of some random variable X is a measure of how much values in the distribution vary on average with respect to the mean.  \n",
        "\n",
        "> $Var[X] = E[(X - E[X])^2]$  \n",
        "\n",
        "sum of the square difference of each from the expected value multiplied by the probability of that value.  \n",
        "\n",
        "> $Var[X] = \\sum p(x_1)*(x_1 - E[X])^2, p(x_2)*(x_2 - E[X])^2, \\cdots, p(x_n)*(x_n - E[X])^2$  \n",
        "\n",
        "if the probability of each in the distribution is equal,  \n",
        "> $Var[X] = \\frac{1}{n} \\sum (x_1 - E[X])^2, (x_2 - E[X])^2, \\cdots, (x_n - E[X])^2$  \n",
        "\n",
        "sample variance  \n",
        "> $\\sigma^2 = \\frac{1}{n-1} \\sum_{i=1}^{n} (x_i - \\mu)^2 $  \n"
      ]
    },
    {
      "cell_type": "code",
      "metadata": {
        "colab": {
          "base_uri": "https://localhost:8080/"
        },
        "id": "Xa-2WTe72JYh",
        "outputId": "e91582c3-c1b4-44d5-f0f6-324013ff6049"
      },
      "source": [
        "v = np.array([1,2,3,4,5,6])\n",
        "print(v)\n",
        "print(f\"sample variance : {np.var(v, ddof=1)}\") \n",
        "# ddof = 1 => sample variance, default is population variance\n",
        "print(f\"population variance : {np.var(v)}\")"
      ],
      "execution_count": 83,
      "outputs": [
        {
          "output_type": "stream",
          "name": "stdout",
          "text": [
            "[1 2 3 4 5 6]\n",
            "sample variance : 3.5\n",
            "population variance : 2.9166666666666665\n"
          ]
        }
      ]
    },
    {
      "cell_type": "code",
      "metadata": {
        "colab": {
          "base_uri": "https://localhost:8080/"
        },
        "id": "itsQHVjOHCxJ",
        "outputId": "ea0ba71c-821c-4160-ac27-541c1061879c"
      },
      "source": [
        "M = np.array([[1,2,3,4,5,6],[1,2,3,4,5,6]])\n",
        "print(M)\n",
        "print(f\"Variance of Columns : {np.var(M, ddof=1, axis=0)}\")\n",
        "print(f\"Variance of Rows    : {np.var(M, ddof=1, axis=1)}\")"
      ],
      "execution_count": 84,
      "outputs": [
        {
          "output_type": "stream",
          "name": "stdout",
          "text": [
            "[[1 2 3 4 5 6]\n",
            " [1 2 3 4 5 6]]\n",
            "Variance of Columns : [0. 0. 0. 0. 0. 0.]\n",
            "Variance of Rows    : [3.5 3.5]\n"
          ]
        }
      ]
    },
    {
      "cell_type": "markdown",
      "metadata": {
        "id": "mZk7dBGCISqE"
      },
      "source": [
        "**Standard Deviation** is the square root of the variance.  \n",
        "\n",
        "> $s = \\sqrt{\\sigma^2}$  "
      ]
    },
    {
      "cell_type": "code",
      "metadata": {
        "colab": {
          "base_uri": "https://localhost:8080/"
        },
        "id": "Ob_WpFOVHS3Q",
        "outputId": "8dc03070-5dcb-45bd-f657-b9c9ad6cb84e"
      },
      "source": [
        "print(M)\n",
        "print(f\"Standard deviation of Columns : {np.std(M, ddof=1, axis=0)}\")\n",
        "print(f\"Standard deviation of Rows    : {np.std(M, ddof=1, axis=1)}\")"
      ],
      "execution_count": 85,
      "outputs": [
        {
          "output_type": "stream",
          "name": "stdout",
          "text": [
            "[[1 2 3 4 5 6]\n",
            " [1 2 3 4 5 6]]\n",
            "Standard deviation of Columns : [0. 0. 0. 0. 0. 0.]\n",
            "Standard deviation of Rows    : [1.87082869 1.87082869]\n"
          ]
        }
      ]
    },
    {
      "cell_type": "markdown",
      "metadata": {
        "id": "SnnNCEyXIuPr"
      },
      "source": [
        "**Covariance and Correlation**  \n",
        "Covariance is the measure of the joint probability for two random variables. It describes how the two variables change together. Covariance can be calculated by the difference of x values from their expected value multiplied by the difference of y values from thier expected values multiplied by the reciprocal of the number of examples in the population.  \n",
        "\n",
        "> $cov(X,Y) = \\frac{1}{n} \\sum (X-E[X])*(Y-E[Y])$  \n",
        "\n",
        "for sample covariance;  \n",
        ">   $cov(X,Y) = \\frac{1}{n-1} \\sum (X-E[X])*(Y-E[Y])$  \n"
      ]
    },
    {
      "cell_type": "code",
      "metadata": {
        "colab": {
          "base_uri": "https://localhost:8080/"
        },
        "id": "aFPs_8qAHWB4",
        "outputId": "f81d9d29-44d2-4abc-cd3a-da4a141e6202"
      },
      "source": [
        "x = np.array([1,2,3,4,5,6,7,8,9])\n",
        "y = np.array([9,8,7,6,5,4,3,2,1])\n",
        "# np.cov will return covariance matrix \n",
        "print(f\"x = {x}, \\ny = {y}\")\n",
        "print(f\"Covariance matrix = \\n{np.cov(x,y)}\")\n",
        "print(f\"Covariance : {np.cov(x,y)[0,1]}\")"
      ],
      "execution_count": 86,
      "outputs": [
        {
          "output_type": "stream",
          "name": "stdout",
          "text": [
            "x = [1 2 3 4 5 6 7 8 9], \n",
            "y = [9 8 7 6 5 4 3 2 1]\n",
            "Covariance matrix = \n",
            "[[ 7.5 -7.5]\n",
            " [-7.5  7.5]]\n",
            "Covariance : -7.5\n"
          ]
        }
      ]
    },
    {
      "cell_type": "markdown",
      "metadata": {
        "id": "1NTiScjzLBYf"
      },
      "source": [
        "**Correlation** - normalized covariance to a score between -1 and 1 by dividing by standard deviation of X and Y.  Result is called correlation of the variables, called **Pearson correlation coefficient**.  \n",
        "\n",
        "> $r = \\frac{cov(X,Y)}{s_X * s_Y}$  \n"
      ]
    },
    {
      "cell_type": "code",
      "metadata": {
        "colab": {
          "base_uri": "https://localhost:8080/"
        },
        "id": "VMAzNs3eKJ_a",
        "outputId": "883eb27b-b894-4ab5-c257-d48a7ec90d58"
      },
      "source": [
        "print(f\"Correlation coefficient = {np.corrcoef(x,y)[0,1]}\")"
      ],
      "execution_count": 87,
      "outputs": [
        {
          "output_type": "stream",
          "name": "stdout",
          "text": [
            "Correlation coefficient = -1.0\n"
          ]
        }
      ]
    },
    {
      "cell_type": "markdown",
      "metadata": {
        "id": "m78ErBMHL42a"
      },
      "source": [
        "**Covariance Matrix** - square and symmetric matrix that describes the covariance between two or more random variables. The diagonal of the covariance matrix are the variances of each of the random variables, called **variance-covariance matrix**.  \n",
        "\n",
        "> $\\Sigma = E[(X - E[X]*(Y - E[Y])]$   \n",
        "where $\\Sigma_{i,j} = cov(X_i, X_j)$  \n",
        "\n",
        "$X$ is a matrix where each column represents a random variable. It is a key element used in PCA. "
      ]
    },
    {
      "cell_type": "code",
      "metadata": {
        "colab": {
          "base_uri": "https://localhost:8080/"
        },
        "id": "QaXUwGXJLqJS",
        "outputId": "659d2190-f0e0-4b21-cdb7-0491e7394167"
      },
      "source": [
        "X = np.array([[1,5,8],\n",
        "              [3,5,11],\n",
        "              [2,4,9],\n",
        "              [3,6,10],\n",
        "              [1,5,10]])\n",
        "print(f\"Matrix : \\n{X}\\n\")\n",
        "print(f\"Covariance matrix: \\n{np.cov(X.T)}\") \n",
        "# not X, transposed X as it has 3 features with 5 observations "
      ],
      "execution_count": 88,
      "outputs": [
        {
          "output_type": "stream",
          "name": "stdout",
          "text": [
            "Matrix : \n",
            "[[ 1  5  8]\n",
            " [ 3  5 11]\n",
            " [ 2  4  9]\n",
            " [ 3  6 10]\n",
            " [ 1  5 10]]\n",
            "\n",
            "Covariance matrix: \n",
            "[[1.   0.25 0.75]\n",
            " [0.25 0.5  0.25]\n",
            " [0.75 0.25 1.3 ]]\n"
          ]
        }
      ]
    },
    {
      "cell_type": "markdown",
      "metadata": {
        "id": "ehi3wb1TN5ou"
      },
      "source": [
        "### **Principal Component Analysis (PCA)**  \n",
        "\n",
        "An import machine learning method for dimensionality reduction is PCA. It is a method to calculate a projection of the original data into the same number or fewer diemnsions. It can be thought of as a projection method where data with m-columns(features) is projected into a subspace with m or fewer columns, whilst retaining the essence of the original data.  \n",
        "\n",
        "PCA is an operation applied to a dataset, represented by an `n x m` matrix $A$ that results in a projection of $A$ which will call $B$. Let\n",
        "\n",
        "> $A = \\begin{pmatrix}\n",
        "a_{1,1} & a_{1,2} \\\\\n",
        "a_{2,1} & a_{2,2} \\\\\n",
        "a_{3,1} & a_{3,2} \n",
        "\\end{pmatrix},$ \n",
        "> $B = PCA(A)$\n",
        "\n",
        "**First**, calculate the mean values of each column.  \n",
        "> $ M = mean(A) $  \n",
        "\n",
        "**Second**, center the values in each column by subtracting the mean column value.  \n",
        "> $C = A - M$\n",
        "\n",
        "**Third**, calculate the covariance matrix of the centered matrix C. Covariance is a generalized and unnormalized version of correlation across multiple columns.  \n",
        "> $V = cov(C)$  \n",
        "\n",
        "**Finally**, calculate eigendecomposition of the covariance matrix V. This results in a list of eigenvalues and a list of eigenvectors.  \n",
        "> $values, vectors = eig(V)$  \n",
        "\n",
        "Eigenvectors represent the directions or components for the reduced subspace of B, whereas Eigenvalues represent the magnitudes for the directions. The eigenvectors can be sorted by the eigenvalues in descending order to provide a ranking of the components or axes of the new subspace for $A$. \n",
        "\n",
        "If all eigenvalues have a similar vale, then the existing representation may already be reasonably compressed or dense and that the projection may offer little.  \n",
        "\n",
        "If there are eigenvalues close to zero, they represent components or axes of $B$ that may be discarded. \n",
        "\n",
        "A total of `m` or less components must be selected to comprise the chosen subspace. Ideally, we should select `k` eigenvectors, called **principal components** that have the `k` largest eigenvalues.  \n",
        "> $B = select(values, vectors)$   \n",
        "\n",
        "Project data\n",
        "> $P = vectors^T . C^T$\n",
        "\n",
        "Other matrix decomposition methods can be used such as **SVD**. Generally, the values are referred to as singular values and the vectors of the subspace are referred to as principal components. Once chosen, data can be projected into the subspace via matrix multiplication.  \n",
        "> $P = B^T . A$   \n",
        "\n",
        "$A$ is the original data to project, $B^T$ is the transpose of the chosen principal components and $P$ is the projection of $A$. There are alternative ways to calculate it. \n",
        "\n",
        "Calculate PCA with NumPy step by step. "
      ]
    },
    {
      "cell_type": "code",
      "metadata": {
        "colab": {
          "base_uri": "https://localhost:8080/"
        },
        "id": "iUA-YfSyNXoA",
        "outputId": "fdcd0efd-b6a6-46ef-cb84-533dfb475222"
      },
      "source": [
        "A = np.array([[1,2],[3,4],[5,6]])\n",
        "print(A)\n",
        "\n",
        "M = np.mean(A, axis=0)\n",
        "print(f\"1. Find column means \\nM = {M}\\n\")\n",
        "\n",
        "C = A - M \n",
        "print(f\"2. Center columns by subtracting column means, Center matrix \\n{C}\\n\")\n",
        "\n",
        "V = np.cov(C.T)\n",
        "print(f\"3. Calculate covariance matrix of center matrix \\n{V}\\n\")  \n",
        "\n",
        "values, vectors = np.linalg.eig(V)\n",
        "print(\"4. Factorize covariance matrix and find Eigenvalues and Eigenvectors\")\n",
        "print(f\"Eigenvalues = {values}\")\n",
        "print(f\"Eigenvectors \\n{vectors}\\n\")\n",
        "\n",
        "print(\"5. Project data\")\n",
        "P = vectors.T @ C.T\n",
        "print(P.T)"
      ],
      "execution_count": 95,
      "outputs": [
        {
          "output_type": "stream",
          "name": "stdout",
          "text": [
            "[[1 2]\n",
            " [3 4]\n",
            " [5 6]]\n",
            "1. Find column means \n",
            "M = [3. 4.]\n",
            "\n",
            "2. Center columns by subtracting column means, Center matrix \n",
            "[[-2. -2.]\n",
            " [ 0.  0.]\n",
            " [ 2.  2.]]\n",
            "\n",
            "3. Calculate covariance matrix of center matrix \n",
            "[[4. 4.]\n",
            " [4. 4.]]\n",
            "\n",
            "4. Factorize covariance matrix and find Eigenvalues and Eigenvectors\n",
            "Eigenvalues = [8. 0.]\n",
            "Eigenvectors \n",
            "[[ 0.70710678 -0.70710678]\n",
            " [ 0.70710678  0.70710678]]\n",
            "\n",
            "5. Project data\n",
            "[[-2.82842712  0.        ]\n",
            " [ 0.          0.        ]\n",
            " [ 2.82842712  0.        ]]\n"
          ]
        }
      ]
    },
    {
      "cell_type": "markdown",
      "metadata": {
        "id": "l59YJdJkVf0D"
      },
      "source": [
        "Only the first eigenvecto is required, suggesting that we could project `3 x 2` matrix onto a `3 x 1` matrix with little loss. \n",
        "\n",
        "**PCA in scikit-learn**  \n"
      ]
    },
    {
      "cell_type": "code",
      "metadata": {
        "colab": {
          "base_uri": "https://localhost:8080/"
        },
        "id": "OyI9UbopNyHQ",
        "outputId": "d652ffcc-e250-4e14-c1f7-14221a5021d3"
      },
      "source": [
        "from sklearn.decomposition import PCA  \n",
        "# will use matrix A from above \n",
        "# create the transform \n",
        "pca = PCA(2)\n",
        "\n",
        "# fit transform \n",
        "pca.fit(A)\n",
        "\n",
        "# access values and vectors \n",
        "print(f\"Eigenvalues = {pca.components_}\")\n",
        "print(f\"Eigenvectors \\n{pca.explained_variance_}\")\n",
        "\n",
        "# transform data \n",
        "print(f\"Result \\n{pca.transform(A)}\")"
      ],
      "execution_count": 96,
      "outputs": [
        {
          "output_type": "stream",
          "name": "stdout",
          "text": [
            "Eigenvalues = [[ 0.70710678  0.70710678]\n",
            " [-0.70710678  0.70710678]]\n",
            "Eigenvectors \n",
            "[8. 0.]\n",
            "Result \n",
            "[[-2.82842712e+00 -2.22044605e-16]\n",
            " [ 0.00000000e+00  0.00000000e+00]\n",
            " [ 2.82842712e+00  2.22044605e-16]]\n"
          ]
        }
      ]
    },
    {
      "cell_type": "markdown",
      "metadata": {
        "id": "YvZRq423W9Ei"
      },
      "source": [
        "### **Linear Regression**  \n",
        "Linear regression is a method for modeling the relationship between one or more independent variables and a dependent variable. \n",
        "> $ y = f(x) $  \n",
        "\n",
        "> $ y = b_0 + (b_1 * x_1) + (b_2 * x_2) + \\cdots $  \n",
        "\n",
        "Objective of creating a linear regression model is to find the values for the coefficient values (b) that minimize the error in the prediction of the output variable y.  \n",
        "\n",
        "**Matrix Formulation for Linear Regression**  \n",
        "\n",
        "> $ y = X . b $  \n",
        "\n",
        "$X$ is the input data and each column is a data feature, $b$ is a vector of coefficients and $y$ is a vector of output variables for each row in $X$.  \n",
        "\n",
        "> $ X = \\begin{pmatrix}\n",
        "x_{1,1} & x_{1,2} & x_{1,3} \\\\\n",
        "x_{2,1} & x_{2,2} & x_{2,3} \\\\\n",
        "x_{3,1} & x_{3,2} & x_{3,3} \\\\\n",
        "x_{4,1} & x_{4,2} & x_{4,3}\n",
        "\\end{pmatrix}, \n",
        "b = \\begin{pmatrix}b_1 \\\\ b_2 \\\\ b_3\\end{pmatrix},\n",
        "y = \\begin{pmatrix}y_1 \\\\ y_2 \\\\ y_3 \\\\ y_4\\end{pmatrix}$   \n",
        "\n",
        "The problem becomes a system of linear equations where the `b` vector values are unknown. \n",
        "\n",
        "**Linear least squares** - amount of variablity between predicted and actual value `y`  \n",
        "> $||(X . b) - y||^2 = \\sum_{i=1}^m \\sum_{j=1}^n X_{i,j}.(b_j - y_i)^2 $  \n",
        "\n",
        "This formulation has a unique solution as long as the input columns are independent i.e uncorrelated.  \n",
        "\n",
        "In matrix notation, this problem is formulated using **normal equation**. \n",
        "\n",
        "> $ X^T . y = X^T . X . b $ \n",
        "\n",
        "> $ b = (X^T . X)^{-1} . X^T . y $  \n",
        "\n",
        "This can be solved directly although given the presence of the matrix inverse can be numerically challenging or unstable. \n"
      ]
    },
    {
      "cell_type": "code",
      "metadata": {
        "colab": {
          "base_uri": "https://localhost:8080/",
          "height": 265
        },
        "id": "SA1dwo3cTjip",
        "outputId": "93bdb7d2-8900-4333-d68b-4760623cc786"
      },
      "source": [
        "import matplotlib.pyplot as plt \n",
        "\n",
        "data = np.array([[0.05, 0.12],\n",
        "                 [0.18, 0.22],\n",
        "                 [0.31, 0.35], \n",
        "                 [0.42, 0.38], \n",
        "                 [0.5, 0.49]])\n",
        "X, y = data[:,0],data[:,1]\n",
        "X = X.reshape(len(X), 1)\n",
        "plt.scatter(X,y)\n",
        "plt.show()"
      ],
      "execution_count": 99,
      "outputs": [
        {
          "output_type": "display_data",
          "data": {
            "image/png": "[encoded data removed]",
            "text/plain": [
              "<Figure size 432x288 with 1 Axes>"
            ]
          },
          "metadata": {
            "needs_background": "light"
          }
        }
      ]
    },
    {
      "cell_type": "markdown",
      "metadata": {
        "id": "yznWMwTubuIQ"
      },
      "source": [
        "> $ b = (X^T . X)^{-1} . X^T . y $  "
      ]
    },
    {
      "cell_type": "code",
      "metadata": {
        "colab": {
          "base_uri": "https://localhost:8080/"
        },
        "id": "pT31uygPTl_n",
        "outputId": "5700b784-fac9-492a-a22e-b94a3fc95269"
      },
      "source": [
        "b = np.linalg.inv(X.T @ X) @ X.T @ y\n",
        "print(b)"
      ],
      "execution_count": 100,
      "outputs": [
        {
          "output_type": "stream",
          "name": "stdout",
          "text": [
            "[1.00233226]\n"
          ]
        }
      ]
    },
    {
      "cell_type": "markdown",
      "metadata": {
        "id": "9DIE5vgKcLRZ"
      },
      "source": [
        "> $ y = X . b $ "
      ]
    },
    {
      "cell_type": "code",
      "metadata": {
        "colab": {
          "base_uri": "https://localhost:8080/"
        },
        "id": "F84KGqq1bma4",
        "outputId": "51cd4445-aa71-4b2b-bb4e-83674b485e2b"
      },
      "source": [
        "yhat = X @ b\n",
        "yhat"
      ],
      "execution_count": 101,
      "outputs": [
        {
          "output_type": "execute_result",
          "data": {
            "text/plain": [
              "array([0.05011661, 0.18041981, 0.310723  , 0.42097955, 0.50116613])"
            ]
          },
          "metadata": {},
          "execution_count": 101
        }
      ]
    },
    {
      "cell_type": "code",
      "metadata": {
        "colab": {
          "base_uri": "https://localhost:8080/",
          "height": 265
        },
        "id": "UKPwSOr0cQDU",
        "outputId": "fd704b02-c55f-4363-862b-2e0c6cdeb123"
      },
      "source": [
        "plt.scatter(X, y)\n",
        "plt.plot(X, yhat, color='red')\n",
        "plt.show()"
      ],
      "execution_count": 107,
      "outputs": [
        {
          "output_type": "display_data",
          "data": {
            "image/png": "[encoded data removed]",
            "text/plain": [
              "<Figure size 432x288 with 1 Axes>"
            ]
          },
          "metadata": {
            "needs_background": "light"
          }
        }
      ]
    },
    {
      "cell_type": "markdown",
      "metadata": {
        "id": "ujqJpcM7cdyw"
      },
      "source": [
        "Problem with this approach is the matrix inverse that is both computationally expensive and numerically unstable. An alternative approach is to use a matrix decomposition to avoid this operation.  \n",
        "\n",
        "**Solve with QR Decomposition** \n",
        "\n",
        "> $ X = Q . R $\n",
        "\n",
        "> $ b = R^{-1} . Q^T . y $"
      ]
    },
    {
      "cell_type": "code",
      "metadata": {
        "colab": {
          "base_uri": "https://localhost:8080/"
        },
        "id": "UAreTiZjcZFm",
        "outputId": "926315ae-c0ca-42f9-8cca-717c35198993"
      },
      "source": [
        "# will use X and y from above \n",
        "Q, R = np.linalg.qr(X) # will return Q,R\n",
        "b = np.linalg.inv(R) @ Q.T @ y \n",
        "print(b)"
      ],
      "execution_count": 104,
      "outputs": [
        {
          "output_type": "stream",
          "name": "stdout",
          "text": [
            "[1.00233226]\n"
          ]
        }
      ]
    },
    {
      "cell_type": "code",
      "metadata": {
        "colab": {
          "base_uri": "https://localhost:8080/",
          "height": 265
        },
        "id": "96UR4LSrdmvA",
        "outputId": "0f59da93-d18d-4f94-a71f-b73f26ee94cb"
      },
      "source": [
        "# predict using b \n",
        "yhat = X @ b\n",
        "plt.scatter(X, y)\n",
        "plt.plot(X, yhat, color='red')\n",
        "plt.show()"
      ],
      "execution_count": 106,
      "outputs": [
        {
          "output_type": "display_data",
          "data": {
            "image/png": "[encoded data removed]",
            "text/plain": [
              "<Figure size 432x288 with 1 Axes>"
            ]
          },
          "metadata": {
            "needs_background": "light"
          }
        }
      ]
    },
    {
      "cell_type": "markdown",
      "metadata": {
        "id": "wuauTf1xd6J4"
      },
      "source": [
        "Same result, QR decomposition is more computationally efficient and more numerically stable but does not work for all data matrices. \n",
        "\n",
        "**Solve via SVD and Pseudoinverse**\n",
        "\n",
        "> $ X = U . \\Sigma . V^T $  \n",
        "\n",
        "> $ b = X^+ . y $\n",
        "\n",
        "> $ X^+ = U . D^+ . V^T $"
      ]
    },
    {
      "cell_type": "code",
      "metadata": {
        "colab": {
          "base_uri": "https://localhost:8080/"
        },
        "id": "jDldykv6d018",
        "outputId": "5a97ea35-e8a4-448d-c5c3-93e8c5aef800"
      },
      "source": [
        "b = np.linalg.pinv(X) @ y\n",
        "print(b)"
      ],
      "execution_count": 108,
      "outputs": [
        {
          "output_type": "stream",
          "name": "stdout",
          "text": [
            "[1.00233226]\n"
          ]
        }
      ]
    },
    {
      "cell_type": "code",
      "metadata": {
        "colab": {
          "base_uri": "https://localhost:8080/",
          "height": 265
        },
        "id": "A8rJYRXrfFQD",
        "outputId": "239ec16b-2ae1-47c8-faca-19d483948583"
      },
      "source": [
        "yhat = X @ b\n",
        "plt.scatter(X, y)\n",
        "plt.plot(X, yhat, color='red')\n",
        "plt.show()"
      ],
      "execution_count": 109,
      "outputs": [
        {
          "output_type": "display_data",
          "data": {
            "image/png": "[encoded data removed]",
            "text/plain": [
              "<Figure size 432x288 with 1 Axes>"
            ]
          },
          "metadata": {
            "needs_background": "light"
          }
        }
      ]
    },
    {
      "cell_type": "markdown",
      "metadata": {
        "id": "j6-ipVJbfPM5"
      },
      "source": [
        "**Solve via Convenience Function**  \n",
        "The pseudoinverse via SVD approach is the de facto standard. NumPy provides a convenience function named `lstsq()` that solves the linear least squares function using the SVD approach. \n",
        "This function takes input X matrix and y vector and returns b coefficients as well as residual errors, the rank of the provided X matrix and the singular values. "
      ]
    },
    {
      "cell_type": "code",
      "metadata": {
        "colab": {
          "base_uri": "https://localhost:8080/",
          "height": 352
        },
        "id": "K0wteR-1fMOb",
        "outputId": "c6bc331e-c0b4-4640-8cff-8e1f05946217"
      },
      "source": [
        "b, residuals, rank, s = np.linalg.lstsq(X, y)\n",
        "print(b) \n",
        "\n",
        "yhat = X @ b \n",
        "plt.scatter(X, y)\n",
        "plt.plot(X, yhat, color=\"red\")\n",
        "plt.show()"
      ],
      "execution_count": 110,
      "outputs": [
        {
          "output_type": "stream",
          "name": "stdout",
          "text": [
            "[1.00233226]\n"
          ]
        },
        {
          "output_type": "stream",
          "name": "stderr",
          "text": [
            "/usr/local/lib/python3.7/dist-packages/ipykernel_launcher.py:1: FutureWarning: `rcond` parameter will change to the default of machine precision times ``max(M, N)`` where M and N are the input matrix dimensions.\n",
            "To use the future default and silence this warning we advise to pass `rcond=None`, to keep using the old, explicitly pass `rcond=-1`.\n",
            "  \"\"\"Entry point for launching an IPython kernel.\n"
          ]
        },
        {
          "output_type": "display_data",
          "data": {
            "image/png": "[encoded data removed]",
            "text/plain": [
              "<Figure size 432x288 with 1 Axes>"
            ]
          },
          "metadata": {
            "needs_background": "light"
          }
        }
      ]
    },
    {
      "cell_type": "code",
      "metadata": {
        "id": "HW7yYAHqhsn4"
      },
      "source": [
        ""
      ],
      "execution_count": null,
      "outputs": []
    }
  ]
}