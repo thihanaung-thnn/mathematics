{
  "nbformat": 4,
  "nbformat_minor": 0,
  "metadata": {
    "colab": {
      "name": "linear_algebra_basic_operations.ipynb",
      "provenance": [],
      "collapsed_sections": [],
      "authorship_tag": "ABX9TyPAH73/lHGCuFmvIS+P5pcl",
      "include_colab_link": true
    },
    "kernelspec": {
      "name": "python3",
      "display_name": "Python 3"
    },
    "language_info": {
      "name": "python"
    }
  },
  "cells": [
    {
      "cell_type": "markdown",
      "metadata": {
        "id": "view-in-github",
        "colab_type": "text"
      },
      "source": [
        "<a href=\"https://colab.research.google.com/github/thihanaung-thnn/mathematics/blob/main/linear_algebra_basic_operations.ipynb\" target=\"_parent\"><img src=\"https://colab.research.google.com/assets/colab-badge.svg\" alt=\"Open In Colab\"/></a>"
      ]
    },
    {
      "cell_type": "markdown",
      "metadata": {
        "id": "e5cALWhJnPuH"
      },
      "source": [
        "These are notes from **Basics of Linear Algebra for Machine Learning** written by **Jason Brownlee**.If you get an intuition in linear algebra, you should try [3blue1brown - Essence of Linear Algebra Series.](https://www.youtube.com/playlist?list=PLZHQObOWTQDPD3MizzM2xVFitgF8hE_ab) For me,it is the best linear algebra teaching series. "
      ]
    },
    {
      "cell_type": "code",
      "metadata": {
        "id": "bZruLrhagHoj"
      },
      "source": [
        "import numpy as np"
      ],
      "execution_count": null,
      "outputs": []
    },
    {
      "cell_type": "markdown",
      "metadata": {
        "id": "vgOvo6HbvYL5"
      },
      "source": [
        "## **Introduction to NumPy**\n"
      ]
    },
    {
      "cell_type": "markdown",
      "metadata": {
        "id": "vdF_rtzczf62"
      },
      "source": [
        "### **Creating an NumPy array**"
      ]
    },
    {
      "cell_type": "code",
      "metadata": {
        "colab": {
          "base_uri": "https://localhost:8080/"
        },
        "id": "7yphU6Gdt4ld",
        "outputId": "0e0af6e0-b9d5-47f4-80fd-5bf2419ce010"
      },
      "source": [
        "# create array \n",
        "l = [1.0, 2.0, 3.0]\n",
        "a = np.array(l)\n",
        "print(a)\n",
        "print(a.shape)\n",
        "print(a.dtype)"
      ],
      "execution_count": null,
      "outputs": [
        {
          "output_type": "stream",
          "name": "stdout",
          "text": [
            "[1. 2. 3.]\n",
            "(3,)\n",
            "float64\n"
          ]
        }
      ]
    },
    {
      "cell_type": "code",
      "metadata": {
        "colab": {
          "base_uri": "https://localhost:8080/"
        },
        "id": "Wzbmd7pPuEEz",
        "outputId": "f08537f0-553d-4ffa-fba9-4237e866a9de"
      },
      "source": [
        "# create empty array\n",
        "np.empty([3,3])"
      ],
      "execution_count": null,
      "outputs": [
        {
          "output_type": "execute_result",
          "data": {
            "text/plain": [
              "array([[4.64104333e-310, 3.60739284e-313, 1.38338381e-322],\n",
              "       [4.64104333e-310, 0.00000000e+000, 0.00000000e+000],\n",
              "       [4.94065646e-323, 0.00000000e+000, 0.00000000e+000]])"
            ]
          },
          "metadata": {},
          "execution_count": 3
        }
      ]
    },
    {
      "cell_type": "code",
      "metadata": {
        "colab": {
          "base_uri": "https://localhost:8080/"
        },
        "id": "4gxhij1AuSfJ",
        "outputId": "6150db8f-df08-4e11-c133-54e2da9dd3b8"
      },
      "source": [
        "# create zero array\n",
        "np.zeros([3,4])"
      ],
      "execution_count": null,
      "outputs": [
        {
          "output_type": "execute_result",
          "data": {
            "text/plain": [
              "array([[0., 0., 0., 0.],\n",
              "       [0., 0., 0., 0.],\n",
              "       [0., 0., 0., 0.]])"
            ]
          },
          "metadata": {},
          "execution_count": 4
        }
      ]
    },
    {
      "cell_type": "code",
      "metadata": {
        "colab": {
          "base_uri": "https://localhost:8080/"
        },
        "id": "2YZRXiSDuZJZ",
        "outputId": "b1349370-1bbe-434b-c90f-9550e272119a"
      },
      "source": [
        "# create one array\n",
        "a = np.ones([3,3])\n",
        "print(a)"
      ],
      "execution_count": null,
      "outputs": [
        {
          "output_type": "stream",
          "name": "stdout",
          "text": [
            "[[1. 1. 1.]\n",
            " [1. 1. 1.]\n",
            " [1. 1. 1.]]\n"
          ]
        }
      ]
    },
    {
      "cell_type": "code",
      "metadata": {
        "colab": {
          "base_uri": "https://localhost:8080/"
        },
        "id": "RoPcuLPoue_y",
        "outputId": "59d4dfec-90d3-42c6-9c60-a0cb9981fa4c"
      },
      "source": [
        "# combining arrays\n",
        "# vertical stack\n",
        "a1 = np.array([1,2,3])\n",
        "a2 = np.array([4,5,6])\n",
        "a3 = np.vstack((a1,a2))\n",
        "print(a3)\n",
        "print(a3.shape)"
      ],
      "execution_count": null,
      "outputs": [
        {
          "output_type": "stream",
          "name": "stdout",
          "text": [
            "[[1 2 3]\n",
            " [4 5 6]]\n",
            "(2, 3)\n"
          ]
        }
      ]
    },
    {
      "cell_type": "code",
      "metadata": {
        "colab": {
          "base_uri": "https://localhost:8080/"
        },
        "id": "LRDBIyApur4Z",
        "outputId": "b122e6fa-efda-456e-b8cd-1ec0d7a09936"
      },
      "source": [
        "a3 = np.hstack((a1,a2))\n",
        "print(a3)\n",
        "print(a3.shape)"
      ],
      "execution_count": null,
      "outputs": [
        {
          "output_type": "stream",
          "name": "stdout",
          "text": [
            "[1 2 3 4 5 6]\n",
            "(6,)\n"
          ]
        }
      ]
    },
    {
      "cell_type": "markdown",
      "metadata": {
        "id": "wzzLMLuIvgs1"
      },
      "source": [
        "### **Index, slicing, reshaping NumPy Arrays**"
      ]
    },
    {
      "cell_type": "code",
      "metadata": {
        "colab": {
          "base_uri": "https://localhost:8080/"
        },
        "id": "hMFXdlb1vLvz",
        "outputId": "9ec552da-4251-447b-bcbf-5f0a6142bdf9"
      },
      "source": [
        "# one_dimensional array\n",
        "data1 = [11,22,33,44,55]\n",
        "data1 = np.array(data1)\n",
        "print(data1) \n",
        "print(f\"First number from array : {data1[0]}\")\n",
        "print(f\"Last number from array  : {data1[-1]}\")"
      ],
      "execution_count": null,
      "outputs": [
        {
          "output_type": "stream",
          "name": "stdout",
          "text": [
            "[11 22 33 44 55]\n",
            "First number from array : 11\n",
            "Last number from array  : 55\n"
          ]
        }
      ]
    },
    {
      "cell_type": "code",
      "metadata": {
        "colab": {
          "base_uri": "https://localhost:8080/"
        },
        "id": "ranVkrgbv-42",
        "outputId": "172789c5-4bbc-431a-c061-b4539b42eb79"
      },
      "source": [
        "# two_dimensional array\n",
        "data2 = np.array([[11,22],[33,44],[55,66]])\n",
        "print(f\"data : \\n{data2}\\n\")\n",
        "print(f\"data[0,]  : {data2[0,]}\")\n",
        "print(f\"data[:,0] : {data2[:,0]}\")\n",
        "print(f\"data[1,1] : {data2[1,1]}\")"
      ],
      "execution_count": null,
      "outputs": [
        {
          "output_type": "stream",
          "name": "stdout",
          "text": [
            "data : \n",
            "[[11 22]\n",
            " [33 44]\n",
            " [55 66]]\n",
            "\n",
            "data[0,]  : [11 22]\n",
            "data[:,0] : [11 33 55]\n",
            "data[1,1] : 44\n"
          ]
        }
      ]
    },
    {
      "cell_type": "code",
      "metadata": {
        "colab": {
          "base_uri": "https://localhost:8080/"
        },
        "id": "Vt_bKX3vwdzM",
        "outputId": "7020d443-35be-4fa5-9998-b4ec51e52b6c"
      },
      "source": [
        "# slicing one dimension\n",
        "# data[from:to]\n",
        "data1"
      ],
      "execution_count": null,
      "outputs": [
        {
          "output_type": "execute_result",
          "data": {
            "text/plain": [
              "array([11, 22, 33, 44, 55])"
            ]
          },
          "metadata": {},
          "execution_count": 10
        }
      ]
    },
    {
      "cell_type": "code",
      "metadata": {
        "colab": {
          "base_uri": "https://localhost:8080/"
        },
        "id": "MgvB0caDxlQQ",
        "outputId": "ccf79966-5fa4-4ce3-e593-7bc93161402b"
      },
      "source": [
        "print(data1[:])"
      ],
      "execution_count": null,
      "outputs": [
        {
          "output_type": "stream",
          "name": "stdout",
          "text": [
            "[11 22 33 44 55]\n"
          ]
        }
      ]
    },
    {
      "cell_type": "code",
      "metadata": {
        "colab": {
          "base_uri": "https://localhost:8080/"
        },
        "id": "76GXIP4Hxqju",
        "outputId": "06def245-4cd0-493f-8dfa-fb339060ad67"
      },
      "source": [
        "print(data1[0:3])"
      ],
      "execution_count": null,
      "outputs": [
        {
          "output_type": "stream",
          "name": "stdout",
          "text": [
            "[11 22 33]\n"
          ]
        }
      ]
    },
    {
      "cell_type": "code",
      "metadata": {
        "colab": {
          "base_uri": "https://localhost:8080/"
        },
        "id": "qGpHR-fTx6Ip",
        "outputId": "f9631bec-3a0c-4ff0-d043-873b5d661650"
      },
      "source": [
        "# slicing two dimensions\n",
        "data = np.array([[11,22,33],[44,55,66],[77,88,99]])\n",
        "print(data)"
      ],
      "execution_count": null,
      "outputs": [
        {
          "output_type": "stream",
          "name": "stdout",
          "text": [
            "[[11 22 33]\n",
            " [44 55 66]\n",
            " [77 88 99]]\n"
          ]
        }
      ]
    },
    {
      "cell_type": "code",
      "metadata": {
        "colab": {
          "base_uri": "https://localhost:8080/"
        },
        "id": "kXfiniNzyMtS",
        "outputId": "55a34e9e-21a1-4846-c541-f455d2b7798d"
      },
      "source": [
        "# column slice\n",
        "X, y = data[:,:-1], data[:,-1]\n",
        "print(X)\n",
        "print('='*14)\n",
        "print(y)"
      ],
      "execution_count": null,
      "outputs": [
        {
          "output_type": "stream",
          "name": "stdout",
          "text": [
            "[[11 22]\n",
            " [44 55]\n",
            " [77 88]]\n",
            "==============\n",
            "[33 66 99]\n"
          ]
        }
      ]
    },
    {
      "cell_type": "code",
      "metadata": {
        "colab": {
          "base_uri": "https://localhost:8080/"
        },
        "id": "ChkloLhUyT-K",
        "outputId": "73da3960-b97c-4426-d9f4-1fb1b650400c"
      },
      "source": [
        "# row slice \n",
        "split = 2\n",
        "train, test = data[:split, :], data[split:, :]\n",
        "print(train)\n",
        "print('='*14)\n",
        "print(test)"
      ],
      "execution_count": null,
      "outputs": [
        {
          "output_type": "stream",
          "name": "stdout",
          "text": [
            "[[11 22 33]\n",
            " [44 55 66]]\n",
            "==============\n",
            "[[77 88 99]]\n"
          ]
        }
      ]
    },
    {
      "cell_type": "code",
      "metadata": {
        "colab": {
          "base_uri": "https://localhost:8080/"
        },
        "id": "CA_TviOZy0uv",
        "outputId": "bc641f80-5c09-4b49-e54d-f02e73b8ba83"
      },
      "source": [
        "# array shapes \n",
        "data = np.array([11,22,33,44,55])\n",
        "print(data.shape)"
      ],
      "execution_count": null,
      "outputs": [
        {
          "output_type": "stream",
          "name": "stdout",
          "text": [
            "(5,)\n"
          ]
        }
      ]
    },
    {
      "cell_type": "code",
      "metadata": {
        "colab": {
          "base_uri": "https://localhost:8080/"
        },
        "id": "y6Bsd_JpzNT1",
        "outputId": "d561f5cd-174a-487e-f5c5-1c69b45ebd28"
      },
      "source": [
        "data = np.array([[11,22],[33,44],[55,66]])\n",
        "print(data)\n",
        "print('='*14)\n",
        "print(f\"Rows    : {data.shape[0]}\")\n",
        "print(f\"Columns : {data.shape[1]}\")"
      ],
      "execution_count": null,
      "outputs": [
        {
          "output_type": "stream",
          "name": "stdout",
          "text": [
            "[[11 22]\n",
            " [33 44]\n",
            " [55 66]]\n",
            "==============\n",
            "Rows    : 3\n",
            "Columns : 2\n"
          ]
        }
      ]
    },
    {
      "cell_type": "code",
      "metadata": {
        "colab": {
          "base_uri": "https://localhost:8080/"
        },
        "id": "kb1GSwsQzjaj",
        "outputId": "f799dbbd-2950-472d-9587-b32918d97988"
      },
      "source": [
        "# reshape 1D to 2D \n",
        "data = np.array([11,22,33,44,55])\n",
        "print(f\"before reshape : {data.shape}\")\n",
        "\n",
        "data = data.reshape(data.shape[0],1)\n",
        "print(f\"after reshape  : {data.shape}\")"
      ],
      "execution_count": null,
      "outputs": [
        {
          "output_type": "stream",
          "name": "stdout",
          "text": [
            "before reshape : (5,)\n",
            "after reshape  : (5, 1)\n"
          ]
        }
      ]
    },
    {
      "cell_type": "code",
      "metadata": {
        "colab": {
          "base_uri": "https://localhost:8080/"
        },
        "id": "lhtAAIjp0JCy",
        "outputId": "31d1df39-a8c9-4534-fdae-01d032123328"
      },
      "source": [
        "# reshape 2D to 3D\n",
        "data = np.array([[11,22],[33,44],[55,66]])\n",
        "print(f\"before reshape : {data.shape}\")\n",
        "\n",
        "data = data.reshape(data.shape[0], data.shape[1], 1)\n",
        "print(f\"ater reshape   : {data.shape}\")"
      ],
      "execution_count": null,
      "outputs": [
        {
          "output_type": "stream",
          "name": "stdout",
          "text": [
            "before reshape : (3, 2)\n",
            "ater reshape   : (3, 2, 1)\n"
          ]
        }
      ]
    },
    {
      "cell_type": "markdown",
      "metadata": {
        "id": "vekqSllK0wGO"
      },
      "source": [
        "### **Array Broadcasting**"
      ]
    },
    {
      "cell_type": "code",
      "metadata": {
        "colab": {
          "base_uri": "https://localhost:8080/"
        },
        "id": "z-gqVZfa0kL6",
        "outputId": "6b0b8222-3761-4c78-df7e-0560e1876111"
      },
      "source": [
        "# scalar and one_dimensional array\n",
        "# [a1,a2,a3] + [b1,b2,b3] = [a1+b1,a2+b2,a3+b3]\n",
        "# [a1,a2,a3] + b = [a1+b,a2+b,a3+b]  => broadcasting\n",
        "a = np.array([1,2,3])\n",
        "b = 2 \n",
        "print(a + b)"
      ],
      "execution_count": null,
      "outputs": [
        {
          "output_type": "stream",
          "name": "stdout",
          "text": [
            "[3 4 5]\n"
          ]
        }
      ]
    },
    {
      "cell_type": "code",
      "metadata": {
        "colab": {
          "base_uri": "https://localhost:8080/"
        },
        "id": "r-c4Lc6T2sIn",
        "outputId": "5b4e5026-e4a7-4035-b650-5110a5f7e42a"
      },
      "source": [
        "# scalar and two dimensional array\n",
        "A = np.array([[1,2,3],[4,5,6]])\n",
        "print(A + b)"
      ],
      "execution_count": null,
      "outputs": [
        {
          "output_type": "stream",
          "name": "stdout",
          "text": [
            "[[3 4 5]\n",
            " [6 7 8]]\n"
          ]
        }
      ]
    },
    {
      "cell_type": "code",
      "metadata": {
        "colab": {
          "base_uri": "https://localhost:8080/"
        },
        "id": "4xlHaNu3222p",
        "outputId": "8cbdae9b-5113-4262-888f-e6cf6cc04d08"
      },
      "source": [
        "# 1D vs 2D\n",
        "c = np.array([2, 3, 4])\n",
        "print(f\"{A} + {c} \\n============\\n {A+c}\")"
      ],
      "execution_count": null,
      "outputs": [
        {
          "output_type": "stream",
          "name": "stdout",
          "text": [
            "[[1 2 3]\n",
            " [4 5 6]] + [2 3 4] \n",
            "============\n",
            " [[ 3  5  7]\n",
            " [ 6  8 10]]\n"
          ]
        }
      ]
    },
    {
      "cell_type": "code",
      "metadata": {
        "colab": {
          "base_uri": "https://localhost:8080/"
        },
        "id": "bkmh-WOG3K0f",
        "outputId": "39bd074b-474d-49fb-f671-17669b67025c"
      },
      "source": [
        "# broadcasting error\n",
        "d = np.array([1,2])\n",
        "print(A)\n",
        "print(d)\n",
        "try: A + d \n",
        "except: print(\"ValueError: operands could not be broadcast together with shapes (2,3) (2,)\")"
      ],
      "execution_count": null,
      "outputs": [
        {
          "output_type": "stream",
          "name": "stdout",
          "text": [
            "[[1 2 3]\n",
            " [4 5 6]]\n",
            "[1 2]\n",
            "ValueError: operands could not be broadcast together with shapes (2,3) (2,)\n"
          ]
        }
      ]
    },
    {
      "cell_type": "code",
      "metadata": {
        "id": "PQ3wqurWgfqE"
      },
      "source": [
        ""
      ],
      "execution_count": null,
      "outputs": []
    },
    {
      "cell_type": "markdown",
      "metadata": {
        "id": "mlAYS-gy4zIv"
      },
      "source": [
        "\n",
        "## **Vectors and Matrices**\n",
        "\n"
      ]
    },
    {
      "cell_type": "markdown",
      "metadata": {
        "id": "mf5WUEgVzHpJ"
      },
      "source": [
        "\n",
        "### **Vectors Arithmetic**"
      ]
    },
    {
      "cell_type": "code",
      "metadata": {
        "colab": {
          "base_uri": "https://localhost:8080/"
        },
        "id": "gGBbzN0L4ES7",
        "outputId": "dfc2cb0a-cbc5-42b1-cb66-ff9257cb0356"
      },
      "source": [
        "# defining vector \n",
        "v = np.array([1,2,3])\n",
        "print(v)"
      ],
      "execution_count": null,
      "outputs": [
        {
          "output_type": "stream",
          "name": "stdout",
          "text": [
            "[1 2 3]\n"
          ]
        }
      ]
    },
    {
      "cell_type": "markdown",
      "metadata": {
        "id": "vqQh9lKW7JP4"
      },
      "source": [
        "$\\begin{pmatrix}\n",
        "a_1 \\\\\n",
        "a_2 \\\\\n",
        "a_3\n",
        "\\end{pmatrix} +\n",
        "\\begin{pmatrix}\n",
        "b_1 \\\\\n",
        "b_2 \\\\\n",
        "b_3\n",
        "\\end{pmatrix} = \n",
        "\\begin{pmatrix}\n",
        "a_1 + b_1 \\\\\n",
        "a_2 + b_2 \\\\\n",
        "a_3 + b_3\n",
        "\\end{pmatrix}$\n",
        "\n",
        "- same as for subtraction, multipliation and division\n",
        "\n",
        "**In reality, vectors are not that horizontal format, they exists vertically, be careful the shapes in the next operations**"
      ]
    },
    {
      "cell_type": "code",
      "metadata": {
        "colab": {
          "base_uri": "https://localhost:8080/"
        },
        "id": "q4E3X1WI5ZMl",
        "outputId": "9d3baecf-722f-4dad-e2c1-e25e36f876bc"
      },
      "source": [
        "# vector addition \n",
        "a = np.array([1,2,3])\n",
        "b = np.array([2,3,4])\n",
        "print(a)\n",
        "print(b)\n",
        "print('-------')\n",
        "print(a+b)"
      ],
      "execution_count": null,
      "outputs": [
        {
          "output_type": "stream",
          "name": "stdout",
          "text": [
            "[1 2 3]\n",
            "[2 3 4]\n",
            "-------\n",
            "[3 5 7]\n"
          ]
        }
      ]
    },
    {
      "cell_type": "code",
      "metadata": {
        "colab": {
          "base_uri": "https://localhost:8080/"
        },
        "id": "lRkLv23-5v7h",
        "outputId": "520142a2-9cd2-4082-8180-65630ecff84c"
      },
      "source": [
        "# vector subtraction \n",
        "print('\\n',a,'\\n',b,'\\n----------')\n",
        "print(a-b)"
      ],
      "execution_count": null,
      "outputs": [
        {
          "output_type": "stream",
          "name": "stdout",
          "text": [
            "\n",
            " [1 2 3] \n",
            " [2 3 4] \n",
            "----------\n",
            "[-1 -1 -1]\n"
          ]
        }
      ]
    },
    {
      "cell_type": "code",
      "metadata": {
        "colab": {
          "base_uri": "https://localhost:8080/"
        },
        "id": "Zcwy2Ty76Gkg",
        "outputId": "e541a835-ea7f-4b65-9caf-a5cfd182ebeb"
      },
      "source": [
        "# vector multiplication \n",
        "# c = (a1*b1, a2*b2, a3*b3)\n",
        "print('\\n',a,'\\n',b,'\\n----------')\n",
        "print(a*b)"
      ],
      "execution_count": null,
      "outputs": [
        {
          "output_type": "stream",
          "name": "stdout",
          "text": [
            "\n",
            " [1 2 3] \n",
            " [2 3 4] \n",
            "----------\n",
            "[ 2  6 12]\n"
          ]
        }
      ]
    },
    {
      "cell_type": "code",
      "metadata": {
        "colab": {
          "base_uri": "https://localhost:8080/"
        },
        "id": "FglibdTg6pzU",
        "outputId": "89667de4-a041-4a1d-b0dc-9a28d4e4f564"
      },
      "source": [
        "# vector division \n",
        "# c = (a1/b1, a2/b2, a3/b3)\n",
        "print('\\n',a,'\\n',b,'\\n----------')\n",
        "print(a/b)"
      ],
      "execution_count": null,
      "outputs": [
        {
          "output_type": "stream",
          "name": "stdout",
          "text": [
            "\n",
            " [1 2 3] \n",
            " [2 3 4] \n",
            "----------\n",
            "[0.5        0.66666667 0.75      ]\n"
          ]
        }
      ]
    },
    {
      "cell_type": "markdown",
      "metadata": {
        "id": "QpwGTyjFU1yy"
      },
      "source": [
        "$\\begin{pmatrix}\n",
        "a_1 \\\\\n",
        "a_2 \\\\\n",
        "a_3\n",
        "\\end{pmatrix} .\n",
        "\\begin{pmatrix}\n",
        "b_1 \\\\\n",
        "b_2 \\\\\n",
        "b_3\n",
        "\\end{pmatrix} \n",
        "= \n",
        "(a_1*b_1 + a_2*b_2 + a_3*b_3)$"
      ]
    },
    {
      "cell_type": "code",
      "metadata": {
        "colab": {
          "base_uri": "https://localhost:8080/"
        },
        "id": "ikTISVd97p3f",
        "outputId": "4a24342b-b07d-4ecb-fa38-66087ee08af6"
      },
      "source": [
        "# vector dot product\n",
        "# c = (a1*b1 + a2*b2 + a3*b3)\n",
        "print('\\n',a,'\\n',b,'\\n----------')\n",
        "print(a.dot(b))"
      ],
      "execution_count": null,
      "outputs": [
        {
          "output_type": "stream",
          "name": "stdout",
          "text": [
            "\n",
            " [1 2 3] \n",
            " [2 3 4] \n",
            "----------\n",
            "20\n"
          ]
        }
      ]
    },
    {
      "cell_type": "code",
      "metadata": {
        "colab": {
          "base_uri": "https://localhost:8080/"
        },
        "id": "KvgquOB672YK",
        "outputId": "9a9f3949-0286-455d-e99d-8ecbe7be8de4"
      },
      "source": [
        "# vector scalar multiplication \n",
        "# c = (a1*s, a2*s, a3*s)\n",
        "print(a)\n",
        "print(3)\n",
        "print('--------')\n",
        "print(a*3)"
      ],
      "execution_count": null,
      "outputs": [
        {
          "output_type": "stream",
          "name": "stdout",
          "text": [
            "[1 2 3]\n",
            "3\n",
            "--------\n",
            "[3 6 9]\n"
          ]
        }
      ]
    },
    {
      "cell_type": "markdown",
      "metadata": {
        "id": "Q2QaExsrNAuF"
      },
      "source": [
        "---"
      ]
    },
    {
      "cell_type": "markdown",
      "metadata": {
        "id": "wonEZPGcPo1F"
      },
      "source": [
        "### **Vectors Norms**\n",
        "\n",
        "- To calculate vector lengths or magnitudes ro size \n",
        "- the length of a vector is a non-negative number that describes the extent of the vector in space"
      ]
    },
    {
      "cell_type": "markdown",
      "metadata": {
        "id": "2n7N8ceO8_q_"
      },
      "source": [
        "#### **Vector $L^1$ Norm** ($L^1(v) = ||v||_1$)\n",
        "\n",
        "> $ ||v||_1 = |a_1| + |a_2| + |a_3|$\n",
        "\n",
        "> $ ||A||_1 = max_{1\\leq j \\leq n}(\\sum_{i=1}^n |a_{ij}|)$\n",
        "\n",
        "\n",
        "L1 norm is often used when fitting ML algorithms as a regularization method, eg. a method to keep the coefficients of the model small, and in turn the model less complex"
      ]
    },
    {
      "cell_type": "code",
      "metadata": {
        "colab": {
          "base_uri": "https://localhost:8080/"
        },
        "id": "kJ7pdIaR8IEc",
        "outputId": "a6bf830f-114e-4c91-a6d9-2ef765c8108c"
      },
      "source": [
        "a = np.arange(9) - 4\n",
        "b = a.reshape((3,3))\n",
        "print(a)\n",
        "print(b)\n",
        "\n",
        "print(f\"L1 of a : {np.linalg.norm(a, 1)}\")\n",
        "print(f\"L1 of b : {np.linalg.norm(b, 1)}\")"
      ],
      "execution_count": null,
      "outputs": [
        {
          "output_type": "stream",
          "name": "stdout",
          "text": [
            "[-4 -3 -2 -1  0  1  2  3  4]\n",
            "[[-4 -3 -2]\n",
            " [-1  0  1]\n",
            " [ 2  3  4]]\n",
            "L1 of a : 20.0\n",
            "L1 of b : 7.0\n"
          ]
        }
      ]
    },
    {
      "cell_type": "markdown",
      "metadata": {
        "id": "S4LMbexyImsW"
      },
      "source": [
        "Though b is matrix norm. \n",
        "How to calculate matrix norm?   \n",
        "In this example, absolute sum of vectors are absolute sums of columns are 7,6,7, so maximum value 7 is returned. "
      ]
    },
    {
      "cell_type": "markdown",
      "metadata": {
        "id": "nNmtwxbOCdBx"
      },
      "source": [
        "#### **Vector $L^2$ or Euclidean Norm** ($L^2(v) = ||v||_2$)\n",
        "\n",
        "\n",
        "> $ ||v||_2 = \\sqrt{(a_1^2 + a_2^2 + a_3^2)}$\n",
        "\n",
        "> $||A||_E = \\sqrt{\\sum_{i=1}^n \\sum_{j=1}^n (a_{ij})^2} $\n",
        "\n",
        "---\n",
        "In euclidean norm, matrix and vectors have the same norm.\n"
      ]
    },
    {
      "cell_type": "code",
      "metadata": {
        "colab": {
          "base_uri": "https://localhost:8080/"
        },
        "id": "6eD1Pb7dB9Fw",
        "outputId": "9ba69139-3a86-48ff-ed24-f9a78fe33a76"
      },
      "source": [
        "print(a)\n",
        "print(b)\n",
        "\n",
        "print(f\"L1 of a : {np.linalg.norm(a)}\")\n",
        "print(f\"L1 of b : {np.linalg.norm(b)}\")"
      ],
      "execution_count": null,
      "outputs": [
        {
          "output_type": "stream",
          "name": "stdout",
          "text": [
            "[-4 -3 -2 -1  0  1  2  3  4]\n",
            "[[-4 -3 -2]\n",
            " [-1  0  1]\n",
            " [ 2  3  4]]\n",
            "L1 of a : 7.745966692414834\n",
            "L1 of b : 7.745966692414834\n"
          ]
        }
      ]
    },
    {
      "cell_type": "markdown",
      "metadata": {
        "id": "K7WIw5NKDaCG"
      },
      "source": [
        "#### **Vector Max Form** ($L^\\infty = ||v||_\\infty$)\n",
        "\n",
        "> $||v||_\\infty = maxa_1, a_2, a_3$\n",
        "\n",
        "> $||A||_\\infty = max_{1\\leq i \\leq n}(\\sum_{j=1}^n |a_{ij}|) $\n",
        "\n",
        "---"
      ]
    },
    {
      "cell_type": "code",
      "metadata": {
        "colab": {
          "base_uri": "https://localhost:8080/"
        },
        "id": "pXbQvBkxDPq9",
        "outputId": "aaa8ade5-ef81-45f7-d239-a8db6cd19617"
      },
      "source": [
        "print(a)\n",
        "print(b)\n",
        "\n",
        "print(f\"L1 of a : {np.linalg.norm(a, np.inf)}\")\n",
        "print(f\"L1 of b : {np.linalg.norm(b, np.inf)}\")"
      ],
      "execution_count": null,
      "outputs": [
        {
          "output_type": "stream",
          "name": "stdout",
          "text": [
            "[-4 -3 -2 -1  0  1  2  3  4]\n",
            "[[-4 -3 -2]\n",
            " [-1  0  1]\n",
            " [ 2  3  4]]\n",
            "L1 of a : 4.0\n",
            "L1 of b : 9.0\n"
          ]
        }
      ]
    },
    {
      "cell_type": "markdown",
      "metadata": {
        "id": "a1g70L93JeGd"
      },
      "source": [
        "Infinity norms for matrix is the maximum absolute row sum. So, absolute row sums are 9,2,9 and 9 is returned. \n",
        "\n",
        "> L1 norm is the sum of the absolute values of the vector.  \n",
        "\n",
        "> L2 norm is the square root of th sum of the squared vector values. \n",
        "\n",
        "> Max norm is the maximum vector values. "
      ]
    },
    {
      "cell_type": "markdown",
      "metadata": {
        "id": "8DoK_8uvVevg"
      },
      "source": [
        "### **Matrix Arithmetics**\n",
        "\n",
        "**Matrix** - two-dimensional array of scalars with one or more columns and one or more rows.  "
      ]
    },
    {
      "cell_type": "code",
      "metadata": {
        "colab": {
          "base_uri": "https://localhost:8080/"
        },
        "id": "YJgeCpSVERa7",
        "outputId": "95f041a3-37b1-40ac-98a2-f9275e2a6058"
      },
      "source": [
        "# create matrix \n",
        "A = np.array([[1,2,3],[4,5,6]])\n",
        "print(A)"
      ],
      "execution_count": null,
      "outputs": [
        {
          "output_type": "stream",
          "name": "stdout",
          "text": [
            "[[1 2 3]\n",
            " [4 5 6]]\n"
          ]
        }
      ]
    },
    {
      "cell_type": "markdown",
      "metadata": {
        "id": "ZSpIY69AWGRz"
      },
      "source": [
        "$\n",
        "\\begin{pmatrix}\n",
        "a_{1,1} & a_{1,2} \\\\\n",
        "a_{2,1} & a_{2,2} \\\\\n",
        "a_{3,1} & a_{3,2}\n",
        "\\end{pmatrix} +\n",
        "\\begin{pmatrix}\n",
        "b_{1,1} & b_{1,2} \\\\\n",
        "b_{2,1} & b_{2,2} \\\\\n",
        "b_{3,1} & b_{3,2}\n",
        "\\end{pmatrix} =\n",
        "\\begin{pmatrix}\n",
        "a_{1,1}+b_{1,1} & a_{1,2}+b_{1,2} \\\\\n",
        "a_{2,1}+b_{2,1} & a_{2,2}+b_{2,2} \\\\\n",
        "a_{3,1}+b_{3,1} & a_{3,2}+b_{3,2}\n",
        "\\end{pmatrix}\n",
        "$"
      ]
    },
    {
      "cell_type": "code",
      "metadata": {
        "colab": {
          "base_uri": "https://localhost:8080/"
        },
        "id": "OD5krtZoEjX9",
        "outputId": "20fe1c21-27bf-4809-c334-7289c9f7f409"
      },
      "source": [
        "A = np.array(([1,2,3],[4,5,6]))\n",
        "B = np.array(([1,2,3],[4,5,6]))\n",
        "print(A)\n",
        "print(B)\n",
        "print(A+B)"
      ],
      "execution_count": null,
      "outputs": [
        {
          "output_type": "stream",
          "name": "stdout",
          "text": [
            "[[1 2 3]\n",
            " [4 5 6]]\n",
            "[[1 2 3]\n",
            " [4 5 6]]\n",
            "[[ 2  4  6]\n",
            " [ 8 10 12]]\n"
          ]
        }
      ]
    },
    {
      "cell_type": "code",
      "metadata": {
        "colab": {
          "base_uri": "https://localhost:8080/"
        },
        "id": "qBVRUbw-W9yz",
        "outputId": "ffadef7d-3344-406f-e993-d84d155bbf8e"
      },
      "source": [
        "# subtraction\n",
        "C = np.array([[3,2,1],[3,2,1]])\n",
        "print(A,'\\n')\n",
        "print(C, '\\n')\n",
        "print(A-C)"
      ],
      "execution_count": null,
      "outputs": [
        {
          "output_type": "stream",
          "name": "stdout",
          "text": [
            "[[1 2 3]\n",
            " [4 5 6]] \n",
            "\n",
            "[[3 2 1]\n",
            " [3 2 1]] \n",
            "\n",
            "[[-2  0  2]\n",
            " [ 1  3  5]]\n"
          ]
        }
      ]
    },
    {
      "cell_type": "markdown",
      "metadata": {
        "id": "Yzzf1Ph1XrbG"
      },
      "source": [
        "**Matrix Multiplication (Hadamard Product)**\n",
        "Two matrices of the same size can be multiplied together and called element-wise matrix multiplication.  \n",
        "**It is not the typical operation meant when referring to matrix multiplicaition.** "
      ]
    },
    {
      "cell_type": "code",
      "metadata": {
        "colab": {
          "base_uri": "https://localhost:8080/"
        },
        "id": "3t2aZ8DyXU2r",
        "outputId": "5325f36d-13ea-450c-d923-58495fa8ccd3"
      },
      "source": [
        "print(A, '\\n')\n",
        "print(C, '\\n')\n",
        "print(A*C)"
      ],
      "execution_count": null,
      "outputs": [
        {
          "output_type": "stream",
          "name": "stdout",
          "text": [
            "[[1 2 3]\n",
            " [4 5 6]] \n",
            "\n",
            "[[3 2 1]\n",
            " [3 2 1]] \n",
            "\n",
            "[[ 3  4  3]\n",
            " [12 10  6]]\n"
          ]
        }
      ]
    },
    {
      "cell_type": "code",
      "metadata": {
        "colab": {
          "base_uri": "https://localhost:8080/"
        },
        "id": "VtvSQFZpYNtE",
        "outputId": "d2d6c8ba-cd9d-4fdc-b42a-16a9b538bde4"
      },
      "source": [
        "# Matrix division \n",
        "print(A, '\\n')\n",
        "print(C, '\\n')\n",
        "print(A/C)"
      ],
      "execution_count": null,
      "outputs": [
        {
          "output_type": "stream",
          "name": "stdout",
          "text": [
            "[[1 2 3]\n",
            " [4 5 6]] \n",
            "\n",
            "[[3 2 1]\n",
            " [3 2 1]] \n",
            "\n",
            "[[0.33333333 1.         3.        ]\n",
            " [1.33333333 2.5        6.        ]]\n"
          ]
        }
      ]
    },
    {
      "cell_type": "markdown",
      "metadata": {
        "id": "DLUBDYPEYdnU"
      },
      "source": [
        "**Matrix-Matrix Multipliation** called matrix dot product.\n",
        "\n",
        "**Rule for matrix multiplication**  \n",
        "- number of columns(n) in the first matrix(A) must equal to the number of rows(m) in the second matrix(B). \n",
        "\n",
        "> **C(m,k) = A(m,n).B(n,k)**\n",
        "\n",
        "$\n",
        "\\begin{pmatrix}\n",
        "a_{1,1} & a_{1,2} \\\\\n",
        "a_{2,1} & a_{2,2} \\\\\n",
        "a_{3,1} & a_{3,2}\n",
        "\\end{pmatrix} .\n",
        "\\begin{pmatrix}\n",
        "b_{1,1} & b_{1,2} \\\\\n",
        "b_{2,1} & b_{2,2}\n",
        "\\end{pmatrix} =\n",
        "\\begin{pmatrix}\n",
        "a_{1,1}*b_{1,1} + a_{1,2}*b_{2,1} & a_{1,1}*b_{1,2} + a_{1,2}*b_{2,2} \\\\\n",
        "a_{2,1}*b_{1,1} + a_{2,2}*b_{2,1} & a_{2,1}*b_{1,2} + a_{2,2}*b_{2,2}  \\\\\n",
        "a_{3,1}*b_{1,1} + a_{3,2}*b_{2,1} & a_{3,1}*b_{1,2} + a_{3,2}*b_{2,2}\n",
        "\\end{pmatrix}\n",
        "$\n"
      ]
    },
    {
      "cell_type": "code",
      "metadata": {
        "colab": {
          "base_uri": "https://localhost:8080/"
        },
        "id": "4qu_Du72YWeS",
        "outputId": "669044f5-ba94-4cc0-bd43-f0eaa7ddf140"
      },
      "source": [
        "# matrix dot product\n",
        "A = np.array([[1,2],[3,4],[5,6]])\n",
        "B = np.array([[1,2],[3,4]])\n",
        "print(A, '\\n')\n",
        "print(B, '\\n')\n",
        "print(A.dot(B))"
      ],
      "execution_count": null,
      "outputs": [
        {
          "output_type": "stream",
          "name": "stdout",
          "text": [
            "[[1 2]\n",
            " [3 4]\n",
            " [5 6]] \n",
            "\n",
            "[[1 2]\n",
            " [3 4]] \n",
            "\n",
            "[[ 7 10]\n",
            " [15 22]\n",
            " [23 34]]\n"
          ]
        }
      ]
    },
    {
      "cell_type": "code",
      "metadata": {
        "colab": {
          "base_uri": "https://localhost:8080/"
        },
        "id": "91BI0NR5a2Z7",
        "outputId": "512882cd-45cd-4afe-d6ab-7e6e788f405f"
      },
      "source": [
        "A @ B"
      ],
      "execution_count": null,
      "outputs": [
        {
          "output_type": "execute_result",
          "data": {
            "text/plain": [
              "array([[ 7, 10],\n",
              "       [15, 22],\n",
              "       [23, 34]])"
            ]
          },
          "metadata": {},
          "execution_count": 40
        }
      ]
    },
    {
      "cell_type": "markdown",
      "metadata": {
        "id": "c7EmQuOpbQWR"
      },
      "source": [
        "**Matrix-Vector Multiplication**\n",
        "\n",
        "c = A.v or Av\n",
        "\n",
        "\n",
        "$\n",
        "\\begin{pmatrix}\n",
        "a_{1,1} & a_{1,2} \\\\\n",
        "a_{2,1} & a_{2,2} \\\\\n",
        "a_{3,1} & a_{3,2} \n",
        "\\end{pmatrix} .\n",
        "\\begin{pmatrix}\n",
        "v_1 & v_2\n",
        "\\end{pmatrix} = \n",
        "\\begin{pmatrix}\n",
        "a_{1,1}*v_1 + a_{1,2}*v_2 \\\\\n",
        "a_{2,1}*v_1 + a_{2,2}*v_2 \\\\\n",
        "a_{3,1}*v_1 + a_{3,2}*v_2 \n",
        "\\end{pmatrix}\n",
        "$"
      ]
    },
    {
      "cell_type": "code",
      "metadata": {
        "colab": {
          "base_uri": "https://localhost:8080/"
        },
        "id": "bNCsvirBbGUC",
        "outputId": "81bf2489-e0ad-4b4a-8bf5-64a028943724"
      },
      "source": [
        "B = np.array([0.5,0.5])\n",
        "print(A, '\\n')\n",
        "print(B, '\\n')\n",
        "print(A.dot(B))"
      ],
      "execution_count": null,
      "outputs": [
        {
          "output_type": "stream",
          "name": "stdout",
          "text": [
            "[[1 2]\n",
            " [3 4]\n",
            " [5 6]] \n",
            "\n",
            "[0.5 0.5] \n",
            "\n",
            "[1.5 3.5 5.5]\n"
          ]
        }
      ]
    },
    {
      "cell_type": "code",
      "metadata": {
        "colab": {
          "base_uri": "https://localhost:8080/"
        },
        "id": "GFx0kgNUcewt",
        "outputId": "0df1f32a-27b0-4ec9-e0d9-fe4ce274f755"
      },
      "source": [
        "# matrix-scalar multiplication\n",
        "b = 0.5\n",
        "print(A, '\\n')\n",
        "print(b, '\\n')\n",
        "print(A*b)"
      ],
      "execution_count": null,
      "outputs": [
        {
          "output_type": "stream",
          "name": "stdout",
          "text": [
            "[[1 2]\n",
            " [3 4]\n",
            " [5 6]] \n",
            "\n",
            "0.5 \n",
            "\n",
            "[[0.5 1. ]\n",
            " [1.5 2. ]\n",
            " [2.5 3. ]]\n"
          ]
        }
      ]
    },
    {
      "cell_type": "markdown",
      "metadata": {
        "id": "gBytj-lWq9fs"
      },
      "source": [
        "### **Types of Matrices**\n",
        "\n",
        "1. **Square matrix**\n",
        "> matrix - number of rows(n) is equivalent to number of columns   \n",
        "$n \\equiv m$  \n",
        "\n",
        "2. **Symmetric matrix**\n",
        "> type of square matrix where top-right triangle is the same as bottom-left triangle.   \n",
        "$M = M^T$\n",
        "\n",
        "3. **Triangular matrix**\n",
        "> type of square matrix that has all values in the upper-right or lower-right of the matrix with the remaining elements filled with zero values.  \n"
      ]
    },
    {
      "cell_type": "code",
      "metadata": {
        "colab": {
          "base_uri": "https://localhost:8080/"
        },
        "id": "3I8CxI-pdSVJ",
        "outputId": "12a88074-9c93-4197-d990-be4afce1bfa0"
      },
      "source": [
        "M = np.array([[1,2,3],[1,2,3],[1,2,3]])\n",
        "print(f\"Square matrix: \\n {M} \\n\") \n",
        "\n",
        "lower = np.tril(M)\n",
        "print(f\"Lower Triangular matrix: \\n {lower} \\n\")\n",
        "\n",
        "upper = np.triu(M)\n",
        "print(f\"Upper Triangular matrix: \\n {upper} \")"
      ],
      "execution_count": null,
      "outputs": [
        {
          "output_type": "stream",
          "name": "stdout",
          "text": [
            "Square matrix: \n",
            " [[1 2 3]\n",
            " [1 2 3]\n",
            " [1 2 3]] \n",
            "\n",
            "Lower Triangular matrix: \n",
            " [[1 0 0]\n",
            " [1 2 0]\n",
            " [1 2 3]] \n",
            "\n",
            "Upper Triangular matrix: \n",
            " [[1 2 3]\n",
            " [0 2 3]\n",
            " [0 0 3]] \n"
          ]
        }
      ]
    },
    {
      "cell_type": "markdown",
      "metadata": {
        "id": "zSzOlY5PtwBd"
      },
      "source": [
        "4. **Diagnoal matrix**\n",
        "> values outside of the main diagonal have a zero value, where the main diagonal is taken from the top left of the matrix to the bottom right.  \n",
        "\n",
        "$D = \\begin{pmatrix}\n",
        "1&0&0 \\\\ 0&2&0 \\\\ 0&0&3\n",
        "\\end{pmatrix}$\n",
        "\n",
        "$d = \\begin{pmatrix}d_{1,1}\\\\d_{2,2}\\\\d_{3,3}\\end{pmatrix} = \\begin{pmatrix}1\\\\2\\\\3\\end{pmatrix}$  "
      ]
    },
    {
      "cell_type": "code",
      "metadata": {
        "colab": {
          "base_uri": "https://localhost:8080/"
        },
        "id": "8HRnBbaCsJGI",
        "outputId": "e706ac7e-ae77-4898-bc0e-57cce32b53fc"
      },
      "source": [
        "# np.diga() \n",
        "d = np.diag(M)\n",
        "D = np.diag(d)\n",
        "\n",
        "print(f\"from square matrix : \\n{M}\")\n",
        "print(f\"extract diagonal vector : {d}\")\n",
        "print(f\"create diagonal matrix from vector : \\n{D}\")"
      ],
      "execution_count": null,
      "outputs": [
        {
          "output_type": "stream",
          "name": "stdout",
          "text": [
            "from square matrix : \n",
            "[[1 2 3]\n",
            " [1 2 3]\n",
            " [1 2 3]]\n",
            "extract diagonal vector : [1 2 3]\n",
            "create diagonal matrix from vector : \n",
            "[[1 0 0]\n",
            " [0 2 0]\n",
            " [0 0 3]]\n"
          ]
        }
      ]
    },
    {
      "cell_type": "markdown",
      "metadata": {
        "id": "ArtJQao5uhUM"
      },
      "source": [
        "5. **Identity Matrix**\n",
        "\n",
        "> square matrix that does not change a vector when multiplied, \n",
        "\n",
        "$I = \n",
        "\\begin{pmatrix} 1&0&0 \\\\ 0&1&0 \\\\ 0&0&0 \\end{pmatrix}$\n"
      ]
    },
    {
      "cell_type": "code",
      "metadata": {
        "colab": {
          "base_uri": "https://localhost:8080/"
        },
        "id": "wxbnVrlTuCsM",
        "outputId": "80fd9849-399d-4d1b-b645-8fb4aafb5dca"
      },
      "source": [
        "# np.identity()\n",
        "print(np.identity(3))"
      ],
      "execution_count": null,
      "outputs": [
        {
          "output_type": "stream",
          "name": "stdout",
          "text": [
            "[[1. 0. 0.]\n",
            " [0. 1. 0.]\n",
            " [0. 0. 1.]]\n"
          ]
        }
      ]
    },
    {
      "cell_type": "markdown",
      "metadata": {
        "id": "Akl_MYuCvbPm"
      },
      "source": [
        "6. **Orthogonal matrix**  \n",
        "> type of square matrix whose columns and rows are orthonormal unit vectors eg. perpendicular and have a length or magnitude of 1   \n",
        "\n",
        " > Two vectors are orthogonal when their dot product equals zero. Length of each vector is 1  \n",
        "\n",
        "$ \\upsilon . \\omega = 0 $ \n",
        "\n",
        "$\\upsilon . \\omega^T = 0$  \n",
        "\n",
        "$ Q^T . Q = Q . Q^T = I $  \n",
        "\n",
        "$ Q^T = Q^-1 $ \n",
        "\n",
        "eg- \n",
        "\\begin{pmatrix}\n",
        "1&0 \\\\ 0&-1 \\end{pmatrix} "
      ]
    },
    {
      "cell_type": "code",
      "metadata": {
        "colab": {
          "base_uri": "https://localhost:8080/"
        },
        "id": "gbzXT0ZfvWN3",
        "outputId": "5653199d-b960-42fe-b3e2-aa640e9e6a0e"
      },
      "source": [
        "# orthogonal matrix \n",
        "Q = np.array([[1,0],[0,-1]])\n",
        "print(f\"eg - \\nOrthogonal matrix : \\n {Q}\")\n",
        "print(f\"Invese of matrix : \\n {np.linalg.inv(Q)}\")\n",
        "print(f\"Transpose matrix : \\n {Q.T}\")\n",
        "print(f\"Dot product of inverse and transpose matrices:\\n{np.linalg.inv(Q) @ Q.T}\")"
      ],
      "execution_count": null,
      "outputs": [
        {
          "output_type": "stream",
          "name": "stdout",
          "text": [
            "eg - \n",
            "Orthogonal matrix : \n",
            " [[ 1  0]\n",
            " [ 0 -1]]\n",
            "Invese of matrix : \n",
            " [[ 1.  0.]\n",
            " [-0. -1.]]\n",
            "Transpose matrix : \n",
            " [[ 1  0]\n",
            " [ 0 -1]]\n",
            "Dot product of inverse and transpose matrices:\n",
            "[[1. 0.]\n",
            " [0. 1.]]\n"
          ]
        }
      ]
    },
    {
      "cell_type": "markdown",
      "metadata": {
        "id": "uDgAbQm7ySyV"
      },
      "source": [
        "### **Matrix Operations** \n",
        "- Transpose\n",
        "- Inverse \n",
        "- Trace \n",
        "- Determinant\n",
        "- Rank\n",
        "\n",
        "**Transpose** - matrix with the number of columns and rows flipped.  \n",
        "\n",
        "$ Transpose of \n",
        "\\begin{pmatrix}\n",
        "1&2 \\\\ 3&4 \\\\ 5&6\n",
        "\\end{pmatrix} =\n",
        "\\begin{pmatrix}\n",
        "1&3&5 \\\\ 2&4&6\n",
        "\\end{pmatrix}\n",
        "$"
      ]
    },
    {
      "cell_type": "code",
      "metadata": {
        "colab": {
          "base_uri": "https://localhost:8080/"
        },
        "id": "a0zd23YAyA88",
        "outputId": "a50ce739-667d-4296-defe-6f6b04b82f21"
      },
      "source": [
        "# matrix.T\n",
        "A = np.array([[1,2],[3,4],[5,6]])\n",
        "print(f\"Matrix              : \\n{A}\")\n",
        "print(f\"Transpose of matrix : \\n{A.T}\")"
      ],
      "execution_count": null,
      "outputs": [
        {
          "output_type": "stream",
          "name": "stdout",
          "text": [
            "Matrix              : \n",
            "[[1 2]\n",
            " [3 4]\n",
            " [5 6]]\n",
            "Transpose of matrix : \n",
            "[[1 3 5]\n",
            " [2 4 6]]\n"
          ]
        }
      ]
    },
    {
      "cell_type": "markdown",
      "metadata": {
        "id": "lKDLkUFLzPLA"
      },
      "source": [
        "**Inverse** - matrix inversion is a process that finds another matrix that when multiplied with the matrix results in an identity matrix.  \n",
        "\n",
        "> $A.A^-1 = A^-1.A = I$  "
      ]
    },
    {
      "cell_type": "code",
      "metadata": {
        "colab": {
          "base_uri": "https://localhost:8080/"
        },
        "id": "QzV6yVOgzKU-",
        "outputId": "961f0c69-9fe8-4bcb-ba0e-327789960d86"
      },
      "source": [
        "# np.linalg.inv()\n",
        "A = np.array([[1,2],[3,4]])\n",
        "print(f\"Matrix A \\n {A}\")\n",
        "print(f\"Inverse of A \\n {np.linalg.inv(A)}\")\n",
        "print(f\"Dot product of two matrix \\n {A @ np.linalg.inv(A)}\")"
      ],
      "execution_count": null,
      "outputs": [
        {
          "output_type": "stream",
          "name": "stdout",
          "text": [
            "Matrix A \n",
            " [[1 2]\n",
            " [3 4]]\n",
            "Inverse of A \n",
            " [[-2.   1. ]\n",
            " [ 1.5 -0.5]]\n",
            "Dot product of two matrix \n",
            " [[1.0000000e+00 0.0000000e+00]\n",
            " [8.8817842e-16 1.0000000e+00]]\n"
          ]
        }
      ]
    },
    {
      "cell_type": "markdown",
      "metadata": {
        "id": "un9d7XCL0DPY"
      },
      "source": [
        "**Trace** - trace of a square matrix is the sum of the values on the main diagonal of the matrix (top-left to bottom-right), trace operator gives the sum of all of the diagonal entries of a matrix  \n",
        "\n",
        "> $ tr(A) = a_{1,1} + a_{2,2} + a_{3,3} $"
      ]
    },
    {
      "cell_type": "code",
      "metadata": {
        "colab": {
          "base_uri": "https://localhost:8080/"
        },
        "id": "Rw3eU0rlz9Vc",
        "outputId": "434dfae7-b95e-4deb-c10e-35f385ce0481"
      },
      "source": [
        "# np.trace()\n",
        "A = np.array([[1,2,3],[4,5,6],[7,8,9]])\n",
        "print(f\"Matrix A \\n {A}\")\n",
        "print(f\"Trace of matrix A = {np.trace(A)}\")"
      ],
      "execution_count": null,
      "outputs": [
        {
          "output_type": "stream",
          "name": "stdout",
          "text": [
            "Matrix A \n",
            " [[1 2 3]\n",
            " [4 5 6]\n",
            " [7 8 9]]\n",
            "Trace of matrix A = 15\n"
          ]
        }
      ]
    },
    {
      "cell_type": "markdown",
      "metadata": {
        "id": "8S_uAEi707Gw"
      },
      "source": [
        "**Determinant** - determinant of a square matrix is a scalar representation of the volumne of the matrix  "
      ]
    },
    {
      "cell_type": "code",
      "metadata": {
        "colab": {
          "base_uri": "https://localhost:8080/"
        },
        "id": "SNl9sFgd0x_v",
        "outputId": "0d4a74bc-be96-4385-87e4-bf02fabb8eed"
      },
      "source": [
        "# np.linalg.det()\n",
        "print(f\"Matrix A \\n {A}\")\n",
        "print(f\"Determinant of A = {np.linalg.det(A)}\")"
      ],
      "execution_count": null,
      "outputs": [
        {
          "output_type": "stream",
          "name": "stdout",
          "text": [
            "Matrix A \n",
            " [[1 2 3]\n",
            " [4 5 6]\n",
            " [7 8 9]]\n",
            "Determinant of A = 0.0\n"
          ]
        }
      ]
    },
    {
      "cell_type": "markdown",
      "metadata": {
        "id": "3SK_DieL1XKD"
      },
      "source": [
        "**Rank** - rank of a matrix is the estimate of the number of linearly independent rows or columns in a matrix. Number of dimensions spanned by all of the vectors within a matrix. eg. rank 0 = all vectors span a point, rank 1 = all vectors span a line, rank 2 = all vectors span 2D plane, etc. "
      ]
    },
    {
      "cell_type": "code",
      "metadata": {
        "colab": {
          "base_uri": "https://localhost:8080/"
        },
        "id": "b1lSurt41Rns",
        "outputId": "016c58d0-51d7-41f8-afab-89f42e7d7ab3"
      },
      "source": [
        "# np.linalg.matrix_rank()\n",
        "v1 = np.array([1,2,3])\n",
        "v2 = np.array([0,0,0,0,1])\n",
        "\n",
        "print(f\"Vector v1 = {v1}\")\n",
        "print(f\"Rank of v1 = {np.linalg.matrix_rank(v1)}\")\n",
        "print(f\"Vector v2 = {v2}\")\n",
        "print(f\"Rank of v2 = {np.linalg.matrix_rank(v2)}\")\n",
        "\n",
        "B = np.array([[1,2],[1,2]])\n",
        "print(f\"Matrix A \\n {A}\")\n",
        "print(f\"Rank of matrix A = {np.linalg.matrix_rank(A)}\")\n",
        "print(f\"Matrix B \\n {B}\")\n",
        "print(f\"Rank of matrix B = {np.linalg.matrix_rank(B)}\")\n"
      ],
      "execution_count": null,
      "outputs": [
        {
          "output_type": "stream",
          "name": "stdout",
          "text": [
            "Vector v1 = [1 2 3]\n",
            "Rank of v1 = 1\n",
            "Vector v2 = [0 0 0 0 1]\n",
            "Rank of v2 = 1\n",
            "Matrix A \n",
            " [[1 2 3]\n",
            " [4 5 6]\n",
            " [7 8 9]]\n",
            "Rank of matrix A = 2\n",
            "Matrix B \n",
            " [[1 2]\n",
            " [1 2]]\n",
            "Rank of matrix B = 1\n"
          ]
        }
      ]
    },
    {
      "cell_type": "markdown",
      "metadata": {
        "id": "SmDWWkdT3L37"
      },
      "source": [
        "### **Sparse Matrices**\n",
        "\n",
        "> matrices that contain mostly zero values,\n",
        "sparse matrices are distinct from matrices with mostly non-zero values  \n",
        "\n",
        "$sparsity = \\frac{count of nonzero elements}{total elements}$  \n",
        "\n",
        "**Sparse matrices in Machine Learning**  \n",
        "eg - \n",
        "**Data**  \n",
        "- Whether or not a user has watched a movie in a movie catalog\n",
        "- Count of number of listens of a song in a song catalog  \n",
        " \n",
        "**Data Preparation**\n",
        "- One hot encoding - used to represent categorical data as sparse binary vectors  \n",
        "- Count encoding - used to represent the frequency of words in a vocabulary for a document  \n",
        "- TF-IDF encoding - used to represent normalized word frequency scores in a vocabulary \n",
        "\n",
        "**Area of Study**\n",
        "- NPL\n",
        "- Recommender system\n",
        "- computer vision  \n",
        "\n",
        "\n",
        "**Sparse matrices in Python**"
      ]
    },
    {
      "cell_type": "code",
      "metadata": {
        "colab": {
          "base_uri": "https://localhost:8080/"
        },
        "id": "KLAABvru17Cd",
        "outputId": "1cf9e700-8f95-4d35-c4c7-47a14cf671fa"
      },
      "source": [
        "from scipy.sparse import csr_matrix \n",
        "A = np.array([\n",
        "[1,0,0,1,0,0],\n",
        "[0,0,2,0,0,1],\n",
        "[0,0,0,0,2,0]\n",
        "])\n",
        "S = csr_matrix(A)\n",
        "print(f\"Sparse matrix A \\n {A}\\n\")\n",
        "print(f\"Convert A to dense matrix (CSR method) \\n {S}\\n\")\n",
        "print(f\"Convert dense matrix back to sparse matrix \\n {S.todense()}\")"
      ],
      "execution_count": null,
      "outputs": [
        {
          "output_type": "stream",
          "name": "stdout",
          "text": [
            "Sparse matrix A \n",
            " [[1 0 0 1 0 0]\n",
            " [0 0 2 0 0 1]\n",
            " [0 0 0 0 2 0]]\n",
            "\n",
            "Convert A to dense matrix (CSR method) \n",
            "   (0, 0)\t1\n",
            "  (0, 3)\t1\n",
            "  (1, 2)\t2\n",
            "  (1, 5)\t1\n",
            "  (2, 4)\t2\n",
            "\n",
            "Convert dense matrix back to sparse matrix \n",
            " [[1 0 0 1 0 0]\n",
            " [0 0 2 0 0 1]\n",
            " [0 0 0 0 2 0]]\n"
          ]
        }
      ]
    },
    {
      "cell_type": "markdown",
      "metadata": {
        "id": "KuSjyb5E7D0S"
      },
      "source": [
        "**Calculate sparsity**  \n",
        "> sparsity  = 1.0 - count_nonzero(A) / A.size"
      ]
    },
    {
      "cell_type": "code",
      "metadata": {
        "colab": {
          "base_uri": "https://localhost:8080/"
        },
        "id": "l4yEcw0h6uZk",
        "outputId": "92d54393-050d-4361-b500-eb0e0cbd3ee4"
      },
      "source": [
        "sparsity = 1.0 - np.count_nonzero(A) / A.size\n",
        "print(f\"Sparse matrix A \\n {A}\")\n",
        "print(f\"Sparsity of A = {sparsity}\")"
      ],
      "execution_count": null,
      "outputs": [
        {
          "output_type": "stream",
          "name": "stdout",
          "text": [
            "Sparse matrix A \n",
            " [[1 0 0 1 0 0]\n",
            " [0 0 2 0 0 1]\n",
            " [0 0 0 0 2 0]]\n",
            "Sparsity of A = 0.7222222222222222\n"
          ]
        }
      ]
    },
    {
      "cell_type": "markdown",
      "metadata": {
        "id": "q_wmjnEF7qo4"
      },
      "source": [
        "## **Tensors and Tensor Arithmetic**\n"
      ]
    },
    {
      "cell_type": "markdown",
      "metadata": {
        "id": "GzBIqDimzTPa"
      },
      "source": [
        "\n",
        "**Tensors** are a type of data structure used in linear algebra and like vectors and matrices, can calculate arithmetic operations with tensors. \n",
        "\n",
        "**Tensor** is a generalization of vectors and matrices and is easily understood as a multidimensional array.  \n",
        "\n",
        "**Tensor** is an array of numbers arranged on a regular grid with a variable number of axes.  \n",
        "\n",
        "Vector is one-dimensional or first order tensor and matrix is two-dimensional or second order tensor. \n",
        "\n",
        "e.g - 3 x 3 x 3 three-dimensional tensor T \n",
        "$t_{i,j,k}$\n",
        "\n",
        "$T = \n",
        "\\begin{pmatrix}\n",
        "t_{1,1,1} & t_{1,2,1} & t_{1,3,1} \\\\\n",
        "t_{2,1,1} & t_{2,2,1} & t_{2,3,1} \\\\\n",
        "t_{3,1,1} & t_{3,2,1} & t_{3,3,1}\n",
        "\\end{pmatrix},\n",
        "\\begin{pmatrix}\n",
        "t_{1,1,2} & t_{1,2,2} & t_{1,3,2} \\\\\n",
        "t_{2,1,2} & t_{2,2,2} & t_{2,3,2} \\\\\n",
        "t_{3,1,2} & t_{3,2,2} & t_{3,3,2}\n",
        "\\end{pmatrix},\n",
        "\\begin{pmatrix}\n",
        "t_{1,1,3} & t_{1,2,3} & t_{1,3,3} \\\\\n",
        "t_{2,1,3} & t_{2,2,3} & t_{2,3,3} \\\\\n",
        "t_{3,1,3} & t_{3,2,3} & t_{3,3,3}\n",
        "\\end{pmatrix},\n",
        "$ \n",
        "\n",
        "### **Tensors in Python**"
      ]
    },
    {
      "cell_type": "code",
      "metadata": {
        "colab": {
          "base_uri": "https://localhost:8080/"
        },
        "id": "DFG9wgd263wz",
        "outputId": "d2d7679a-555a-4e00-e87b-1c2b206a0e60"
      },
      "source": [
        "# create tensor \n",
        "T = np.array([\n",
        "              [[1,2,3],[4,5,6],[7,8,9]],\n",
        "              [[11,12,13],[14,15,16],[17,18,19]],\n",
        "              [[21,22,23],[24,25,26],[27,28,29]]\n",
        "])\n",
        "print(f\"Tensor T : \\n{T}\")\n",
        "print(f\"Shape of T = {T.shape}\")"
      ],
      "execution_count": null,
      "outputs": [
        {
          "output_type": "stream",
          "name": "stdout",
          "text": [
            "Tensor T : \n",
            "[[[ 1  2  3]\n",
            "  [ 4  5  6]\n",
            "  [ 7  8  9]]\n",
            "\n",
            " [[11 12 13]\n",
            "  [14 15 16]\n",
            "  [17 18 19]]\n",
            "\n",
            " [[21 22 23]\n",
            "  [24 25 26]\n",
            "  [27 28 29]]]\n",
            "Shape of T = (3, 3, 3)\n"
          ]
        }
      ]
    },
    {
      "cell_type": "markdown",
      "metadata": {
        "id": "tAvMQPai-tzv"
      },
      "source": [
        "### **Tensor Arithmetic**\n",
        "same as vector and matrices "
      ]
    },
    {
      "cell_type": "code",
      "metadata": {
        "colab": {
          "base_uri": "https://localhost:8080/"
        },
        "id": "88smfOYV7dcR",
        "outputId": "3f987ac8-9da0-4ed8-b684-6ce86b9cbb34"
      },
      "source": [
        "# tensor addition\n",
        "print(f\"Tensor T: \\n{T}\\n\")\n",
        "print(f\"Tensor T + T : \\n {T+T}\")"
      ],
      "execution_count": null,
      "outputs": [
        {
          "output_type": "stream",
          "name": "stdout",
          "text": [
            "Tensor T: \n",
            "[[[ 1  2  3]\n",
            "  [ 4  5  6]\n",
            "  [ 7  8  9]]\n",
            "\n",
            " [[11 12 13]\n",
            "  [14 15 16]\n",
            "  [17 18 19]]\n",
            "\n",
            " [[21 22 23]\n",
            "  [24 25 26]\n",
            "  [27 28 29]]]\n",
            "\n",
            "Tensor T + T : \n",
            " [[[ 2  4  6]\n",
            "  [ 8 10 12]\n",
            "  [14 16 18]]\n",
            "\n",
            " [[22 24 26]\n",
            "  [28 30 32]\n",
            "  [34 36 38]]\n",
            "\n",
            " [[42 44 46]\n",
            "  [48 50 52]\n",
            "  [54 56 58]]]\n"
          ]
        }
      ]
    },
    {
      "cell_type": "code",
      "metadata": {
        "colab": {
          "base_uri": "https://localhost:8080/"
        },
        "id": "CBvjXqqd_Yl8",
        "outputId": "c9992d0c-ec77-4d79-b0b0-fdfbee13bcf5"
      },
      "source": [
        "# tensor subtraction \n",
        "print(f\"Tensor T - T : \\n {T-T}\")"
      ],
      "execution_count": null,
      "outputs": [
        {
          "output_type": "stream",
          "name": "stdout",
          "text": [
            "Tensor T - T : \n",
            " [[[0 0 0]\n",
            "  [0 0 0]\n",
            "  [0 0 0]]\n",
            "\n",
            " [[0 0 0]\n",
            "  [0 0 0]\n",
            "  [0 0 0]]\n",
            "\n",
            " [[0 0 0]\n",
            "  [0 0 0]\n",
            "  [0 0 0]]]\n"
          ]
        }
      ]
    },
    {
      "cell_type": "markdown",
      "metadata": {
        "id": "8ocsxeQJAW_p"
      },
      "source": [
        "**Tensor Hadamard Product**  \n",
        "\n",
        "$C = A o B$"
      ]
    },
    {
      "cell_type": "code",
      "metadata": {
        "colab": {
          "base_uri": "https://localhost:8080/"
        },
        "id": "Vzr0m0c5_reV",
        "outputId": "0d6a5535-bfca-4e2f-a359-7ea4fb42c4de"
      },
      "source": [
        "# tensor hadamart product \n",
        "print(f\"Tensor Hadamard Product of T*T :\\n {T*T}\")"
      ],
      "execution_count": null,
      "outputs": [
        {
          "output_type": "stream",
          "name": "stdout",
          "text": [
            "Tensor Hadamard Product of T*T :\n",
            " [[[  1   4   9]\n",
            "  [ 16  25  36]\n",
            "  [ 49  64  81]]\n",
            "\n",
            " [[121 144 169]\n",
            "  [196 225 256]\n",
            "  [289 324 361]]\n",
            "\n",
            " [[441 484 529]\n",
            "  [576 625 676]\n",
            "  [729 784 841]]]\n"
          ]
        }
      ]
    },
    {
      "cell_type": "code",
      "metadata": {
        "colab": {
          "base_uri": "https://localhost:8080/"
        },
        "id": "-rlsRpkG_8dt",
        "outputId": "042a2bb2-d847-4693-acbb-acf349f3fab0"
      },
      "source": [
        "# tensor division \n",
        "print(f\"Tensor division T/T : \\n {T/T}\")"
      ],
      "execution_count": null,
      "outputs": [
        {
          "output_type": "stream",
          "name": "stdout",
          "text": [
            "Tensor division T/T : \n",
            " [[[1. 1. 1.]\n",
            "  [1. 1. 1.]\n",
            "  [1. 1. 1.]]\n",
            "\n",
            " [[1. 1. 1.]\n",
            "  [1. 1. 1.]\n",
            "  [1. 1. 1.]]\n",
            "\n",
            " [[1. 1. 1.]\n",
            "  [1. 1. 1.]\n",
            "  [1. 1. 1.]]]\n"
          ]
        }
      ]
    },
    {
      "cell_type": "markdown",
      "metadata": {
        "id": "Ge4Z9rskAmGe"
      },
      "source": [
        "**Tensor Product**  \n",
        "Tensor product operator is often denoted as \n",
        "\n",
        "$C = A \\otimes B$\n",
        "\n",
        "$\\begin{pmatrix} a_1 \\\\ a_2 \\end{pmatrix} \\otimes\n",
        "\\begin{pmatrix} b_1 \\\\ b_2 \\end{pmatrix} =\n",
        "\\begin{pmatrix}\n",
        "a_1*\\begin{pmatrix} b_1 \\\\ b_2 \\end{pmatrix} \\\\\n",
        "a_2*\\begin{pmatrix} b_1 \\\\ b_2 \\end{pmatrix}\n",
        "\\end{pmatrix}$\n",
        "\n",
        "$\\begin{pmatrix} a_1 \\\\ a_2 \\end{pmatrix} \\otimes\n",
        "\\begin{pmatrix} b_1 \\\\ b_2 \\end{pmatrix} =\n",
        "\\begin{pmatrix}\n",
        "a_1*b_1 & a_1*b_2 \\\\\n",
        "a_2*b_1 & a_2*b_2\n",
        "\\end{pmatrix}$ \n",
        "\n",
        "$\\begin{pmatrix}\n",
        "a_{1,1} & a_{1,2} \\\\\n",
        "a_{2,1} & a_{2,2}\n",
        "\\end{pmatrix} \\otimes\n",
        "\\begin{pmatrix}\n",
        "b_{1,1} & b_{1,2} \\\\\n",
        "b_{2,1} & b_{2,2}\n",
        "\\end{pmatrix} = \n",
        "\\begin{pmatrix}\n",
        "a_{1,1}*\\begin{pmatrix}\n",
        "b_{1,1} & b_{1,2} \\\\\n",
        "b_{2,1} & b_{2,2}\n",
        "\\end{pmatrix} \n",
        "& \n",
        "a_{1,2}* \\begin{pmatrix}\n",
        "b_{1,1} & b_{1,2} \\\\\n",
        "b_{2,1} & b_{2,2}\n",
        "\\end{pmatrix}\\\\\n",
        "a_{2,1}* \\begin{pmatrix}\n",
        "b_{1,1} & b_{1,2} \\\\\n",
        "b_{2,1} & b_{2,2}\n",
        "\\end{pmatrix}\n",
        "& \n",
        "a_{2,2}*\\begin{pmatrix}\n",
        "b_{1,1} & b_{1,2} \\\\\n",
        "b_{2,1} & b_{2,2}\n",
        "\\end{pmatrix}\n",
        "\\end{pmatrix}$"
      ]
    },
    {
      "cell_type": "code",
      "metadata": {
        "colab": {
          "base_uri": "https://localhost:8080/"
        },
        "id": "1s9wLDuFAGVE",
        "outputId": "fcb11ae5-936c-498d-98aa-43e2ab3ecfa7"
      },
      "source": [
        "# np.tensordot order 1 tensors (vectors)\n",
        "a = np.array([1,2])\n",
        "b = np.array([3,4])\n",
        "C = np.tensordot(a,b,axes=0) \n",
        "print(f\"Tensor product of \\n{a} and {b} is \\n{C}\")\n",
        "print(f\"dimension of a, b = {a.shape}, {b.shape}\")\n",
        "print(f\"dimension of Tensor = {C.shape}\")"
      ],
      "execution_count": null,
      "outputs": [
        {
          "output_type": "stream",
          "name": "stdout",
          "text": [
            "Tensor product of \n",
            "[1 2] and [3 4] is \n",
            "[[3 4]\n",
            " [6 8]]\n",
            "dimension of a, b = (2,), (2,)\n",
            "dimension of Tensor = (2, 2)\n"
          ]
        }
      ]
    },
    {
      "cell_type": "code",
      "metadata": {
        "colab": {
          "base_uri": "https://localhost:8080/"
        },
        "id": "gSJYiTNOEJ2f",
        "outputId": "1706d7cc-81e5-4276-f6e3-c71031a42875"
      },
      "source": [
        "m1 = np.array([[2,2],[2,2]])\n",
        "m2 = np.array([[1,2],[3,4]])\n",
        "T = np.tensordot(m1, m2, axes=0)\n",
        "print(f\"Tensor product of \\n{m1} and \\n{m2} \\n{T}\")\n",
        "print(f\"dimension of m1, m2 = {m1.shape}, {m2.shape}\")\n",
        "print(f\"dimension of Tensor = {T.shape}\")"
      ],
      "execution_count": null,
      "outputs": [
        {
          "output_type": "stream",
          "name": "stdout",
          "text": [
            "Tensor product of \n",
            "[[2 2]\n",
            " [2 2]] and \n",
            "[[1 2]\n",
            " [3 4]] \n",
            "[[[[2 4]\n",
            "   [6 8]]\n",
            "\n",
            "  [[2 4]\n",
            "   [6 8]]]\n",
            "\n",
            "\n",
            " [[[2 4]\n",
            "   [6 8]]\n",
            "\n",
            "  [[2 4]\n",
            "   [6 8]]]]\n",
            "dimension of m1, m2 = (2, 2), (2, 2)\n",
            "dimension of Tensor = (2, 2, 2, 2)\n"
          ]
        }
      ]
    },
    {
      "cell_type": "markdown",
      "metadata": {
        "id": "w5PCty3mFdSk"
      },
      "source": [
        "There are other types of tensor multiplications such as tensor dot product and tensor contraction."
      ]
    }
  ]
}